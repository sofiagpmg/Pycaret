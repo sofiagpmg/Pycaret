{
  "nbformat": 4,
  "nbformat_minor": 0,
  "metadata": {
    "colab": {
      "name": "PYCARET_Avacado_king Price Prediction.ipynb",
      "provenance": [],
      "include_colab_link": true
    },
    "kernelspec": {
      "display_name": "Python 3",
      "language": "python",
      "name": "python3"
    },
    "language_info": {
      "codemirror_mode": {
        "name": "ipython",
        "version": 3
      },
      "file_extension": ".py",
      "mimetype": "text/x-python",
      "name": "python",
      "nbconvert_exporter": "python",
      "pygments_lexer": "ipython3",
      "version": "3.8.3"
    },
    "widgets": {
      "application/vnd.jupyter.widget-state+json": {}
    }
  },
  "cells": [
    {
      "cell_type": "markdown",
      "metadata": {
        "id": "view-in-github",
        "colab_type": "text"
      },
      "source": [
        "<a href=\"https://colab.research.google.com/github/sofiagpmg/Pycaret/blob/main/PYCARET_Avacado_king_Price_Prediction.ipynb\" target=\"_parent\"><img src=\"https://colab.research.google.com/assets/colab-badge.svg\" alt=\"Open In Colab\"/></a>"
      ]
    },
    {
      "cell_type": "code",
      "metadata": {
        "id": "C6GM2a7FQdTO"
      },
      "source": [
        "import pandas as pd\n",
        "import numpy as np\n",
        "import os\n",
        "import seaborn as sns"
      ],
      "execution_count": null,
      "outputs": []
    },
    {
      "cell_type": "code",
      "metadata": {
        "colab": {
          "base_uri": "https://localhost:8080/"
        },
        "id": "lKcDxtejQv94",
        "outputId": "08b0deff-a9af-40bb-aa4a-570eddab1257"
      },
      "source": [
        "from google.colab import drive\n",
        "drive.mount('/content/drive')"
      ],
      "execution_count": null,
      "outputs": [
        {
          "output_type": "stream",
          "text": [
            "Mounted at /content/drive\n"
          ],
          "name": "stdout"
        }
      ]
    },
    {
      "cell_type": "code",
      "metadata": {
        "id": "dbZR6NU2QdTY"
      },
      "source": [
        "df = pd.read_csv('/content/drive/MyDrive/df_price.csv')"
      ],
      "execution_count": null,
      "outputs": []
    },
    {
      "cell_type": "code",
      "metadata": {
        "colab": {
          "base_uri": "https://localhost:8080/",
          "height": 306
        },
        "id": "whDdlk5NQdTY",
        "scrolled": false,
        "outputId": "7b39a2f2-0db9-439d-a13b-3a49130e6178"
      },
      "source": [
        "df.head()"
      ],
      "execution_count": null,
      "outputs": [
        {
          "output_type": "execute_result",
          "data": {
            "text/html": [
              "<div>\n",
              "<style scoped>\n",
              "    .dataframe tbody tr th:only-of-type {\n",
              "        vertical-align: middle;\n",
              "    }\n",
              "\n",
              "    .dataframe tbody tr th {\n",
              "        vertical-align: top;\n",
              "    }\n",
              "\n",
              "    .dataframe thead th {\n",
              "        text-align: right;\n",
              "    }\n",
              "</style>\n",
              "<table border=\"1\" class=\"dataframe\">\n",
              "  <thead>\n",
              "    <tr style=\"text-align: right;\">\n",
              "      <th></th>\n",
              "      <th>Unnamed: 0</th>\n",
              "      <th>Date</th>\n",
              "      <th>AveragePrice</th>\n",
              "      <th>TotalVolume</th>\n",
              "      <th>4046</th>\n",
              "      <th>4225</th>\n",
              "      <th>4770</th>\n",
              "      <th>TotalBags</th>\n",
              "      <th>SmallBags</th>\n",
              "      <th>LargeBags</th>\n",
              "      <th>XLargeBags</th>\n",
              "      <th>type</th>\n",
              "      <th>year</th>\n",
              "      <th>region</th>\n",
              "    </tr>\n",
              "  </thead>\n",
              "  <tbody>\n",
              "    <tr>\n",
              "      <th>0</th>\n",
              "      <td>0</td>\n",
              "      <td>2015-01-04</td>\n",
              "      <td>1.22</td>\n",
              "      <td>40873.28</td>\n",
              "      <td>2819.50</td>\n",
              "      <td>28287.42</td>\n",
              "      <td>49.90</td>\n",
              "      <td>9716.46</td>\n",
              "      <td>9186.93</td>\n",
              "      <td>529.53</td>\n",
              "      <td>0.0</td>\n",
              "      <td>conventional</td>\n",
              "      <td>2015</td>\n",
              "      <td>Albany</td>\n",
              "    </tr>\n",
              "    <tr>\n",
              "      <th>1</th>\n",
              "      <td>1</td>\n",
              "      <td>2015-01-04</td>\n",
              "      <td>1.00</td>\n",
              "      <td>435021.49</td>\n",
              "      <td>364302.39</td>\n",
              "      <td>23821.16</td>\n",
              "      <td>82.15</td>\n",
              "      <td>46815.79</td>\n",
              "      <td>16707.15</td>\n",
              "      <td>30108.64</td>\n",
              "      <td>0.0</td>\n",
              "      <td>conventional</td>\n",
              "      <td>2015</td>\n",
              "      <td>Atlanta</td>\n",
              "    </tr>\n",
              "    <tr>\n",
              "      <th>2</th>\n",
              "      <td>2</td>\n",
              "      <td>2015-01-04</td>\n",
              "      <td>1.40</td>\n",
              "      <td>788025.06</td>\n",
              "      <td>53987.31</td>\n",
              "      <td>552906.04</td>\n",
              "      <td>39995.03</td>\n",
              "      <td>141136.68</td>\n",
              "      <td>137146.07</td>\n",
              "      <td>3990.61</td>\n",
              "      <td>0.0</td>\n",
              "      <td>conventional</td>\n",
              "      <td>2015</td>\n",
              "      <td>BaltimoreWashington</td>\n",
              "    </tr>\n",
              "    <tr>\n",
              "      <th>3</th>\n",
              "      <td>3</td>\n",
              "      <td>2015-01-04</td>\n",
              "      <td>1.01</td>\n",
              "      <td>80034.32</td>\n",
              "      <td>44562.12</td>\n",
              "      <td>24964.23</td>\n",
              "      <td>2752.35</td>\n",
              "      <td>7755.62</td>\n",
              "      <td>6064.30</td>\n",
              "      <td>1691.32</td>\n",
              "      <td>0.0</td>\n",
              "      <td>conventional</td>\n",
              "      <td>2015</td>\n",
              "      <td>Boise</td>\n",
              "    </tr>\n",
              "    <tr>\n",
              "      <th>4</th>\n",
              "      <td>4</td>\n",
              "      <td>2015-01-04</td>\n",
              "      <td>1.02</td>\n",
              "      <td>491738.00</td>\n",
              "      <td>7193.87</td>\n",
              "      <td>396752.18</td>\n",
              "      <td>128.82</td>\n",
              "      <td>87663.13</td>\n",
              "      <td>87406.84</td>\n",
              "      <td>256.29</td>\n",
              "      <td>0.0</td>\n",
              "      <td>conventional</td>\n",
              "      <td>2015</td>\n",
              "      <td>Boston</td>\n",
              "    </tr>\n",
              "  </tbody>\n",
              "</table>\n",
              "</div>"
            ],
            "text/plain": [
              "   Unnamed: 0        Date  ...  year               region\n",
              "0           0  2015-01-04  ...  2015               Albany\n",
              "1           1  2015-01-04  ...  2015              Atlanta\n",
              "2           2  2015-01-04  ...  2015  BaltimoreWashington\n",
              "3           3  2015-01-04  ...  2015                Boise\n",
              "4           4  2015-01-04  ...  2015               Boston\n",
              "\n",
              "[5 rows x 14 columns]"
            ]
          },
          "metadata": {
            "tags": []
          },
          "execution_count": 5
        }
      ]
    },
    {
      "cell_type": "code",
      "metadata": {
        "colab": {
          "base_uri": "https://localhost:8080/"
        },
        "id": "CttaXlEiQdTa",
        "outputId": "24c63d18-8fbb-411c-f24f-c49517b9f57c"
      },
      "source": [
        "df.columns"
      ],
      "execution_count": null,
      "outputs": [
        {
          "output_type": "execute_result",
          "data": {
            "text/plain": [
              "Index(['Unnamed: 0', 'Date', 'AveragePrice', 'TotalVolume', '4046', '4225',\n",
              "       '4770', 'TotalBags', 'SmallBags', 'LargeBags', 'XLargeBags', 'type',\n",
              "       'year', 'region'],\n",
              "      dtype='object')"
            ]
          },
          "metadata": {
            "tags": []
          },
          "execution_count": 6
        }
      ]
    },
    {
      "cell_type": "code",
      "metadata": {
        "id": "RcQ9HNL-QdTb"
      },
      "source": [
        "df = df[['Date', 'AveragePrice', 'TotalVolume', 'TotalBags', 'type',\n",
        "       'year', 'region']]"
      ],
      "execution_count": null,
      "outputs": []
    },
    {
      "cell_type": "code",
      "metadata": {
        "colab": {
          "base_uri": "https://localhost:8080/"
        },
        "collapsed": true,
        "id": "0M67fCZ5QdTb",
        "outputId": "f89ae959-db65-4998-f101-ac1bf051bb2f"
      },
      "source": [
        "!pip install pandas-profiling"
      ],
      "execution_count": null,
      "outputs": [
        {
          "output_type": "stream",
          "text": [
            "Requirement already satisfied: pandas-profiling in /usr/local/lib/python3.6/dist-packages (1.4.1)\n",
            "Requirement already satisfied: pandas>=0.19 in /usr/local/lib/python3.6/dist-packages (from pandas-profiling) (1.1.5)\n",
            "Requirement already satisfied: jinja2>=2.8 in /usr/local/lib/python3.6/dist-packages (from pandas-profiling) (2.11.3)\n",
            "Requirement already satisfied: matplotlib>=1.4 in /usr/local/lib/python3.6/dist-packages (from pandas-profiling) (3.2.2)\n",
            "Requirement already satisfied: six>=1.9 in /usr/local/lib/python3.6/dist-packages (from pandas-profiling) (1.15.0)\n",
            "Requirement already satisfied: pytz>=2017.2 in /usr/local/lib/python3.6/dist-packages (from pandas>=0.19->pandas-profiling) (2018.9)\n",
            "Requirement already satisfied: python-dateutil>=2.7.3 in /usr/local/lib/python3.6/dist-packages (from pandas>=0.19->pandas-profiling) (2.8.1)\n",
            "Requirement already satisfied: numpy>=1.15.4 in /usr/local/lib/python3.6/dist-packages (from pandas>=0.19->pandas-profiling) (1.19.5)\n",
            "Requirement already satisfied: MarkupSafe>=0.23 in /usr/local/lib/python3.6/dist-packages (from jinja2>=2.8->pandas-profiling) (1.1.1)\n",
            "Requirement already satisfied: pyparsing!=2.0.4,!=2.1.2,!=2.1.6,>=2.0.1 in /usr/local/lib/python3.6/dist-packages (from matplotlib>=1.4->pandas-profiling) (2.4.7)\n",
            "Requirement already satisfied: kiwisolver>=1.0.1 in /usr/local/lib/python3.6/dist-packages (from matplotlib>=1.4->pandas-profiling) (1.3.1)\n",
            "Requirement already satisfied: cycler>=0.10 in /usr/local/lib/python3.6/dist-packages (from matplotlib>=1.4->pandas-profiling) (0.10.0)\n"
          ],
          "name": "stdout"
        }
      ]
    },
    {
      "cell_type": "code",
      "metadata": {
        "id": "nUA2yw45QdTc",
        "scrolled": false
      },
      "source": [
        "from pandas_profiling import ProfileReport\n",
        "prof = ProfileReport(df)\n",
        "prof.to_file(output_file='output.html')"
      ],
      "execution_count": null,
      "outputs": []
    },
    {
      "cell_type": "code",
      "metadata": {
        "colab": {
          "base_uri": "https://localhost:8080/"
        },
        "id": "0X1Lay4pQdTd",
        "outputId": "7078d051-6a43-4e77-e924-23b6ee05f2b4"
      },
      "source": [
        "sns.heatmap(df.corr(), annot = True)"
      ],
      "execution_count": null,
      "outputs": [
        {
          "output_type": "execute_result",
          "data": {
            "text/plain": [
              "<matplotlib.axes._subplots.AxesSubplot at 0x7f83945da320>"
            ]
          },
          "metadata": {
            "tags": []
          },
          "execution_count": 13
        }
      ]
    },
    {
      "cell_type": "code",
      "metadata": {
        "colab": {
          "base_uri": "https://localhost:8080/",
          "height": 1000
        },
        "collapsed": true,
        "id": "f0gD6dEGQdTd",
        "outputId": "36b71b2b-7ad8-489c-df10-db2bd9b74e22"
      },
      "source": [
        "!pip install pycaret"
      ],
      "execution_count": null,
      "outputs": [
        {
          "output_type": "stream",
          "text": [
            "Collecting pycaret\n",
            "\u001b[?25l  Downloading https://files.pythonhosted.org/packages/a2/7b/70e41d8aa900ed47e0e2ac6a8f5cbaf9e359efdf8ae10bf89502c14ce3ed/pycaret-2.2.3-py3-none-any.whl (249kB)\n",
            "\r\u001b[K     |█▎                              | 10kB 13.2MB/s eta 0:00:01\r\u001b[K     |██▋                             | 20kB 11.6MB/s eta 0:00:01\r\u001b[K     |████                            | 30kB 9.9MB/s eta 0:00:01\r\u001b[K     |█████▎                          | 40kB 8.2MB/s eta 0:00:01\r\u001b[K     |██████▌                         | 51kB 5.6MB/s eta 0:00:01\r\u001b[K     |███████▉                        | 61kB 6.2MB/s eta 0:00:01\r\u001b[K     |█████████▏                      | 71kB 6.1MB/s eta 0:00:01\r\u001b[K     |██████████▌                     | 81kB 6.4MB/s eta 0:00:01\r\u001b[K     |███████████▉                    | 92kB 6.5MB/s eta 0:00:01\r\u001b[K     |█████████████                   | 102kB 6.6MB/s eta 0:00:01\r\u001b[K     |██████████████▍                 | 112kB 6.6MB/s eta 0:00:01\r\u001b[K     |███████████████▊                | 122kB 6.6MB/s eta 0:00:01\r\u001b[K     |█████████████████               | 133kB 6.6MB/s eta 0:00:01\r\u001b[K     |██████████████████▍             | 143kB 6.6MB/s eta 0:00:01\r\u001b[K     |███████████████████▋            | 153kB 6.6MB/s eta 0:00:01\r\u001b[K     |█████████████████████           | 163kB 6.6MB/s eta 0:00:01\r\u001b[K     |██████████████████████▎         | 174kB 6.6MB/s eta 0:00:01\r\u001b[K     |███████████████████████▋        | 184kB 6.6MB/s eta 0:00:01\r\u001b[K     |█████████████████████████       | 194kB 6.6MB/s eta 0:00:01\r\u001b[K     |██████████████████████████▏     | 204kB 6.6MB/s eta 0:00:01\r\u001b[K     |███████████████████████████▌    | 215kB 6.6MB/s eta 0:00:01\r\u001b[K     |████████████████████████████▉   | 225kB 6.6MB/s eta 0:00:01\r\u001b[K     |██████████████████████████████▏ | 235kB 6.6MB/s eta 0:00:01\r\u001b[K     |███████████████████████████████▌| 245kB 6.6MB/s eta 0:00:01\r\u001b[K     |████████████████████████████████| 256kB 6.6MB/s \n",
            "\u001b[?25hRequirement already satisfied: IPython in /usr/local/lib/python3.6/dist-packages (from pycaret) (5.5.0)\n",
            "Requirement already satisfied: joblib in /usr/local/lib/python3.6/dist-packages (from pycaret) (1.0.0)\n",
            "Requirement already satisfied: seaborn in /usr/local/lib/python3.6/dist-packages (from pycaret) (0.11.1)\n",
            "Collecting kmodes>=0.10.1\n",
            "  Downloading https://files.pythonhosted.org/packages/b2/55/d8ec1ae1f7e1e202a8a4184c6852a3ee993b202b0459672c699d0ac18fc8/kmodes-0.10.2-py2.py3-none-any.whl\n",
            "Collecting imbalanced-learn>=0.7.0\n",
            "\u001b[?25l  Downloading https://files.pythonhosted.org/packages/c8/81/8db4d87b03b998fda7c6f835d807c9ae4e3b141f978597b8d7f31600be15/imbalanced_learn-0.7.0-py3-none-any.whl (167kB)\n",
            "\u001b[K     |████████████████████████████████| 174kB 9.9MB/s \n",
            "\u001b[?25hRequirement already satisfied: plotly>=4.4.1 in /usr/local/lib/python3.6/dist-packages (from pycaret) (4.4.1)\n",
            "Requirement already satisfied: matplotlib in /usr/local/lib/python3.6/dist-packages (from pycaret) (3.2.2)\n",
            "Collecting catboost>=0.23.2\n",
            "\u001b[?25l  Downloading https://files.pythonhosted.org/packages/20/37/bc4e0ddc30c07a96482abf1de7ed1ca54e59bba2026a33bca6d2ef286e5b/catboost-0.24.4-cp36-none-manylinux1_x86_64.whl (65.7MB)\n",
            "\u001b[K     |████████████████████████████████| 65.8MB 57kB/s \n",
            "\u001b[?25hRequirement already satisfied: nltk in /usr/local/lib/python3.6/dist-packages (from pycaret) (3.2.5)\n",
            "Collecting pandas-profiling>=2.8.0\n",
            "\u001b[?25l  Downloading https://files.pythonhosted.org/packages/3d/8e/645ad7f304dd8d6d7181d22d4bd3d6356331c80c2944a25be3ebe617ec38/pandas_profiling-2.10.0-py2.py3-none-any.whl (239kB)\n",
            "\u001b[K     |████████████████████████████████| 245kB 53.0MB/s \n",
            "\u001b[?25hCollecting yellowbrick>=1.0.1\n",
            "\u001b[?25l  Downloading https://files.pythonhosted.org/packages/b1/bb/57fd86c319a43666fe447bb1bc5af66fb0eb89dc4efc305a7544d50f52d6/yellowbrick-1.2.1-py3-none-any.whl (269kB)\n",
            "\u001b[K     |████████████████████████████████| 276kB 31.9MB/s \n",
            "\u001b[?25hRequirement already satisfied: ipywidgets in /usr/local/lib/python3.6/dist-packages (from pycaret) (7.6.3)\n",
            "Requirement already satisfied: wordcloud in /usr/local/lib/python3.6/dist-packages (from pycaret) (1.5.0)\n",
            "Requirement already satisfied: textblob in /usr/local/lib/python3.6/dist-packages (from pycaret) (0.15.3)\n",
            "Collecting xgboost>=1.1.0\n",
            "\u001b[?25l  Downloading https://files.pythonhosted.org/packages/2e/57/bf5026701c384decd2b995eb39d86587a103ba4eb26f8a9b1811db0896d3/xgboost-1.3.3-py3-none-manylinux2010_x86_64.whl (157.5MB)\n",
            "\u001b[K     |████████████████████████████████| 157.5MB 83kB/s \n",
            "\u001b[?25hRequirement already satisfied: pandas in /usr/local/lib/python3.6/dist-packages (from pycaret) (1.1.5)\n",
            "Collecting pyLDAvis\n",
            "\u001b[?25l  Downloading https://files.pythonhosted.org/packages/9b/61/2759872fbb239f678385683e22a9a32709d45b8682f529b215949b7db0c6/pyLDAvis-3.0.0.tar.gz (1.7MB)\n",
            "\u001b[K     |████████████████████████████████| 1.7MB 51.4MB/s \n",
            "\u001b[?25hCollecting scikit-plot\n",
            "  Downloading https://files.pythonhosted.org/packages/7c/47/32520e259340c140a4ad27c1b97050dd3254fdc517b1d59974d47037510e/scikit_plot-0.3.7-py3-none-any.whl\n",
            "Collecting mlflow\n",
            "\u001b[?25l  Downloading https://files.pythonhosted.org/packages/4c/4d/a6a4460e214842377dbc43d3e83bf976d564f7976822a9351adde60af44b/mlflow-1.13.1-py3-none-any.whl (14.1MB)\n",
            "\u001b[K     |████████████████████████████████| 14.2MB 341kB/s \n",
            "\u001b[?25hRequirement already satisfied: spacy in /usr/local/lib/python3.6/dist-packages (from pycaret) (2.2.4)\n",
            "Collecting lightgbm>=2.3.1\n",
            "\u001b[?25l  Downloading https://files.pythonhosted.org/packages/70/cd/2b7783e8c250f8191b72e9a0010e0429a799d3305c27764d7bf113dfd078/lightgbm-3.1.1-py2.py3-none-manylinux1_x86_64.whl (1.8MB)\n",
            "\u001b[K     |████████████████████████████████| 1.8MB 40.3MB/s \n",
            "\u001b[?25hCollecting scikit-learn==0.23.2\n",
            "\u001b[?25l  Downloading https://files.pythonhosted.org/packages/5c/a1/273def87037a7fb010512bbc5901c31cfddfca8080bc63b42b26e3cc55b3/scikit_learn-0.23.2-cp36-cp36m-manylinux1_x86_64.whl (6.8MB)\n",
            "\u001b[K     |████████████████████████████████| 6.8MB 39.5MB/s \n",
            "\u001b[?25hRequirement already satisfied: gensim in /usr/local/lib/python3.6/dist-packages (from pycaret) (3.6.0)\n",
            "Requirement already satisfied: mlxtend in /usr/local/lib/python3.6/dist-packages (from pycaret) (0.14.0)\n",
            "Requirement already satisfied: cufflinks>=0.17.0 in /usr/local/lib/python3.6/dist-packages (from pycaret) (0.17.3)\n",
            "Requirement already satisfied: numpy>=1.17 in /usr/local/lib/python3.6/dist-packages (from pycaret) (1.19.5)\n",
            "Requirement already satisfied: umap-learn in /usr/local/lib/python3.6/dist-packages (from pycaret) (0.5.0)\n",
            "Collecting pyod\n",
            "\u001b[?25l  Downloading https://files.pythonhosted.org/packages/ac/26/ae4f4143643d2d87fe4bbc356064dd95eed95227b879ba3ee6c4e4ee81ca/pyod-0.8.6.tar.gz (98kB)\n",
            "\u001b[K     |████████████████████████████████| 102kB 9.8MB/s \n",
            "\u001b[?25hRequirement already satisfied: simplegeneric>0.8 in /usr/local/lib/python3.6/dist-packages (from IPython->pycaret) (0.8.1)\n",
            "Requirement already satisfied: setuptools>=18.5 in /usr/local/lib/python3.6/dist-packages (from IPython->pycaret) (53.0.0)\n",
            "Requirement already satisfied: traitlets>=4.2 in /usr/local/lib/python3.6/dist-packages (from IPython->pycaret) (4.3.3)\n",
            "Requirement already satisfied: prompt-toolkit<2.0.0,>=1.0.4 in /usr/local/lib/python3.6/dist-packages (from IPython->pycaret) (1.0.18)\n",
            "Requirement already satisfied: pexpect; sys_platform != \"win32\" in /usr/local/lib/python3.6/dist-packages (from IPython->pycaret) (4.8.0)\n",
            "Requirement already satisfied: decorator in /usr/local/lib/python3.6/dist-packages (from IPython->pycaret) (4.4.2)\n",
            "Requirement already satisfied: pickleshare in /usr/local/lib/python3.6/dist-packages (from IPython->pycaret) (0.7.5)\n",
            "Requirement already satisfied: pygments in /usr/local/lib/python3.6/dist-packages (from IPython->pycaret) (2.6.1)\n",
            "Requirement already satisfied: scipy>=1.0 in /usr/local/lib/python3.6/dist-packages (from seaborn->pycaret) (1.4.1)\n",
            "Requirement already satisfied: retrying>=1.3.3 in /usr/local/lib/python3.6/dist-packages (from plotly>=4.4.1->pycaret) (1.3.3)\n",
            "Requirement already satisfied: six in /usr/local/lib/python3.6/dist-packages (from plotly>=4.4.1->pycaret) (1.15.0)\n",
            "Requirement already satisfied: python-dateutil>=2.1 in /usr/local/lib/python3.6/dist-packages (from matplotlib->pycaret) (2.8.1)\n",
            "Requirement already satisfied: cycler>=0.10 in /usr/local/lib/python3.6/dist-packages (from matplotlib->pycaret) (0.10.0)\n",
            "Requirement already satisfied: pyparsing!=2.0.4,!=2.1.2,!=2.1.6,>=2.0.1 in /usr/local/lib/python3.6/dist-packages (from matplotlib->pycaret) (2.4.7)\n",
            "Requirement already satisfied: kiwisolver>=1.0.1 in /usr/local/lib/python3.6/dist-packages (from matplotlib->pycaret) (1.3.1)\n",
            "Requirement already satisfied: graphviz in /usr/local/lib/python3.6/dist-packages (from catboost>=0.23.2->pycaret) (0.10.1)\n",
            "Requirement already satisfied: attrs>=19.3.0 in /usr/local/lib/python3.6/dist-packages (from pandas-profiling>=2.8.0->pycaret) (20.3.0)\n",
            "Requirement already satisfied: missingno>=0.4.2 in /usr/local/lib/python3.6/dist-packages (from pandas-profiling>=2.8.0->pycaret) (0.4.2)\n",
            "Collecting confuse>=1.0.0\n",
            "  Downloading https://files.pythonhosted.org/packages/6d/55/b4726d81e5d6509fa3441f770f8a9524612627dc1b2a7d6209d1d20083fe/confuse-1.4.0-py2.py3-none-any.whl\n",
            "Collecting requests>=2.24.0\n",
            "\u001b[?25l  Downloading https://files.pythonhosted.org/packages/29/c1/24814557f1d22c56d50280771a17307e6bf87b70727d975fd6b2ce6b014a/requests-2.25.1-py2.py3-none-any.whl (61kB)\n",
            "\u001b[K     |████████████████████████████████| 61kB 6.5MB/s \n",
            "\u001b[?25hCollecting phik>=0.10.0\n",
            "\u001b[?25l  Downloading https://files.pythonhosted.org/packages/d9/27/d4197ed93c26d9eeedb7c73c0f24462a65c617807c3140e012950c35ccf9/phik-0.11.0.tar.gz (594kB)\n",
            "\u001b[K     |████████████████████████████████| 604kB 46.5MB/s \n",
            "\u001b[?25hCollecting htmlmin>=0.1.12\n",
            "  Downloading https://files.pythonhosted.org/packages/b3/e7/fcd59e12169de19f0131ff2812077f964c6b960e7c09804d30a7bf2ab461/htmlmin-0.1.12.tar.gz\n",
            "Collecting tangled-up-in-unicode>=0.0.6\n",
            "\u001b[?25l  Downloading https://files.pythonhosted.org/packages/4a/e2/e588ab9298d4989ce7fdb2b97d18aac878d99dbdc379a4476a09d9271b68/tangled_up_in_unicode-0.0.6-py3-none-any.whl (3.1MB)\n",
            "\u001b[K     |████████████████████████████████| 3.1MB 38.3MB/s \n",
            "\u001b[?25hCollecting tqdm>=4.48.2\n",
            "\u001b[?25l  Downloading https://files.pythonhosted.org/packages/80/02/8f8880a4fd6625461833abcf679d4c12a44c76f9925f92bf212bb6cefaad/tqdm-4.56.0-py2.py3-none-any.whl (72kB)\n",
            "\u001b[K     |████████████████████████████████| 81kB 8.5MB/s \n",
            "\u001b[?25hRequirement already satisfied: jinja2>=2.11.1 in /usr/local/lib/python3.6/dist-packages (from pandas-profiling>=2.8.0->pycaret) (2.11.3)\n",
            "Collecting visions[type_image_path]==0.6.0\n",
            "\u001b[?25l  Downloading https://files.pythonhosted.org/packages/98/30/b1e70bc55962239c4c3c9660e892be2d8247a882135a3035c10ff7f02cde/visions-0.6.0-py3-none-any.whl (75kB)\n",
            "\u001b[K     |████████████████████████████████| 81kB 8.1MB/s \n",
            "\u001b[?25hRequirement already satisfied: ipykernel>=4.5.1 in /usr/local/lib/python3.6/dist-packages (from ipywidgets->pycaret) (4.10.1)\n",
            "Requirement already satisfied: widgetsnbextension~=3.5.0 in /usr/local/lib/python3.6/dist-packages (from ipywidgets->pycaret) (3.5.1)\n",
            "Requirement already satisfied: nbformat>=4.2.0 in /usr/local/lib/python3.6/dist-packages (from ipywidgets->pycaret) (5.1.2)\n",
            "Requirement already satisfied: jupyterlab-widgets>=1.0.0; python_version >= \"3.6\" in /usr/local/lib/python3.6/dist-packages (from ipywidgets->pycaret) (1.0.0)\n",
            "Requirement already satisfied: pillow in /usr/local/lib/python3.6/dist-packages (from wordcloud->pycaret) (7.0.0)\n",
            "Requirement already satisfied: pytz>=2017.2 in /usr/local/lib/python3.6/dist-packages (from pandas->pycaret) (2018.9)\n",
            "Requirement already satisfied: wheel>=0.23.0 in /usr/local/lib/python3.6/dist-packages (from pyLDAvis->pycaret) (0.36.2)\n",
            "Requirement already satisfied: numexpr in /usr/local/lib/python3.6/dist-packages (from pyLDAvis->pycaret) (2.7.2)\n",
            "Requirement already satisfied: future in /usr/local/lib/python3.6/dist-packages (from pyLDAvis->pycaret) (0.16.0)\n",
            "Collecting funcy\n",
            "  Downloading https://files.pythonhosted.org/packages/66/89/479de0afbbfb98d1c4b887936808764627300208bb771fcd823403645a36/funcy-1.15-py2.py3-none-any.whl\n",
            "Collecting prometheus-flask-exporter\n",
            "  Downloading https://files.pythonhosted.org/packages/4c/d5/8a046d683c2cc084b6a502812827ede69b1064f95d93f94b83f809b21723/prometheus_flask_exporter-0.18.1.tar.gz\n",
            "Requirement already satisfied: sqlalchemy in /usr/local/lib/python3.6/dist-packages (from mlflow->pycaret) (1.3.23)\n",
            "Collecting gunicorn; platform_system != \"Windows\"\n",
            "\u001b[?25l  Downloading https://files.pythonhosted.org/packages/69/ca/926f7cd3a2014b16870086b2d0fdc84a9e49473c68a8dff8b57f7c156f43/gunicorn-20.0.4-py2.py3-none-any.whl (77kB)\n",
            "\u001b[K     |████████████████████████████████| 81kB 8.5MB/s \n",
            "\u001b[?25hRequirement already satisfied: pyyaml in /usr/local/lib/python3.6/dist-packages (from mlflow->pycaret) (3.13)\n",
            "Requirement already satisfied: cloudpickle in /usr/local/lib/python3.6/dist-packages (from mlflow->pycaret) (1.3.0)\n",
            "Requirement already satisfied: sqlparse>=0.3.1 in /usr/local/lib/python3.6/dist-packages (from mlflow->pycaret) (0.4.1)\n",
            "Collecting gitpython>=2.1.0\n",
            "\u001b[?25l  Downloading https://files.pythonhosted.org/packages/d7/cb/ec98155c501b68dcb11314c7992cd3df6dce193fd763084338a117967d53/GitPython-3.1.12-py3-none-any.whl (159kB)\n",
            "\u001b[K     |████████████████████████████████| 163kB 43.1MB/s \n",
            "\u001b[?25hRequirement already satisfied: entrypoints in /usr/local/lib/python3.6/dist-packages (from mlflow->pycaret) (0.3)\n",
            "Collecting alembic<=1.4.1\n",
            "\u001b[?25l  Downloading https://files.pythonhosted.org/packages/e0/e9/359dbb77c35c419df0aedeb1d53e71e7e3f438ff64a8fdb048c907404de3/alembic-1.4.1.tar.gz (1.1MB)\n",
            "\u001b[K     |████████████████████████████████| 1.1MB 41.4MB/s \n",
            "\u001b[?25hRequirement already satisfied: click>=7.0 in /usr/local/lib/python3.6/dist-packages (from mlflow->pycaret) (7.1.2)\n",
            "Requirement already satisfied: Flask in /usr/local/lib/python3.6/dist-packages (from mlflow->pycaret) (1.1.2)\n",
            "Collecting azure-storage-blob>=12.0.0\n",
            "\u001b[?25l  Downloading https://files.pythonhosted.org/packages/8e/00/6772472a99cd0a5e74e4e90f87947fa041b37981a3ff93d883cbc450518d/azure_storage_blob-12.7.1-py2.py3-none-any.whl (339kB)\n",
            "\u001b[K     |████████████████████████████████| 348kB 43.3MB/s \n",
            "\u001b[?25hCollecting databricks-cli>=0.8.7\n",
            "\u001b[?25l  Downloading https://files.pythonhosted.org/packages/40/88/ae1f78cf582b707c605c77df49b4c8786a4465edc51adb25d2f98ef4c4de/databricks-cli-0.14.1.tar.gz (54kB)\n",
            "\u001b[K     |████████████████████████████████| 61kB 7.3MB/s \n",
            "\u001b[?25hCollecting querystring-parser\n",
            "  Downloading https://files.pythonhosted.org/packages/88/6b/572b2590fd55114118bf08bde63c0a421dcc82d593700f3e2ad89908a8a9/querystring_parser-1.2.4-py2.py3-none-any.whl\n",
            "Requirement already satisfied: protobuf>=3.6.0 in /usr/local/lib/python3.6/dist-packages (from mlflow->pycaret) (3.12.4)\n",
            "Collecting docker>=4.0.0\n",
            "\u001b[?25l  Downloading https://files.pythonhosted.org/packages/9f/a5/eec74d8d1016e6c2042ba31ca6fba3bba520e27d8a061e82bccd36bd64ef/docker-4.4.1-py2.py3-none-any.whl (146kB)\n",
            "\u001b[K     |████████████████████████████████| 153kB 44.5MB/s \n",
            "\u001b[?25hRequirement already satisfied: thinc==7.4.0 in /usr/local/lib/python3.6/dist-packages (from spacy->pycaret) (7.4.0)\n",
            "Requirement already satisfied: cymem<2.1.0,>=2.0.2 in /usr/local/lib/python3.6/dist-packages (from spacy->pycaret) (2.0.5)\n",
            "Requirement already satisfied: plac<1.2.0,>=0.9.6 in /usr/local/lib/python3.6/dist-packages (from spacy->pycaret) (1.1.3)\n",
            "Requirement already satisfied: wasabi<1.1.0,>=0.4.0 in /usr/local/lib/python3.6/dist-packages (from spacy->pycaret) (0.8.2)\n",
            "Requirement already satisfied: catalogue<1.1.0,>=0.0.7 in /usr/local/lib/python3.6/dist-packages (from spacy->pycaret) (1.0.0)\n",
            "Requirement already satisfied: blis<0.5.0,>=0.4.0 in /usr/local/lib/python3.6/dist-packages (from spacy->pycaret) (0.4.1)\n",
            "Requirement already satisfied: srsly<1.1.0,>=1.0.2 in /usr/local/lib/python3.6/dist-packages (from spacy->pycaret) (1.0.5)\n",
            "Requirement already satisfied: preshed<3.1.0,>=3.0.2 in /usr/local/lib/python3.6/dist-packages (from spacy->pycaret) (3.0.5)\n",
            "Requirement already satisfied: murmurhash<1.1.0,>=0.28.0 in /usr/local/lib/python3.6/dist-packages (from spacy->pycaret) (1.0.5)\n",
            "Collecting threadpoolctl>=2.0.0\n",
            "  Downloading https://files.pythonhosted.org/packages/f7/12/ec3f2e203afa394a149911729357aa48affc59c20e2c1c8297a60f33f133/threadpoolctl-2.1.0-py3-none-any.whl\n",
            "Requirement already satisfied: smart-open>=1.2.1 in /usr/local/lib/python3.6/dist-packages (from gensim->pycaret) (4.1.2)\n",
            "Requirement already satisfied: colorlover>=0.2.1 in /usr/local/lib/python3.6/dist-packages (from cufflinks>=0.17.0->pycaret) (0.3.0)\n",
            "Requirement already satisfied: pynndescent>=0.5 in /usr/local/lib/python3.6/dist-packages (from umap-learn->pycaret) (0.5.1)\n",
            "Requirement already satisfied: numba>=0.49 in /usr/local/lib/python3.6/dist-packages (from umap-learn->pycaret) (0.51.2)\n",
            "Collecting combo\n",
            "  Downloading https://files.pythonhosted.org/packages/12/ae/66029dcaa88ccca77f454dbb29c1178c751ec24fc771ed475a992b49a02d/combo-0.1.2.tar.gz\n",
            "Requirement already satisfied: statsmodels in /usr/local/lib/python3.6/dist-packages (from pyod->pycaret) (0.10.2)\n",
            "Collecting suod\n",
            "\u001b[?25l  Downloading https://files.pythonhosted.org/packages/4e/8a/255ed2c959abab7c712b10fe710e454d5a8e3461c6ae60e426349a8eb6a5/suod-0.0.6.tar.gz (2.1MB)\n",
            "\u001b[K     |████████████████████████████████| 2.1MB 29.0MB/s \n",
            "\u001b[?25hRequirement already satisfied: ipython-genutils in /usr/local/lib/python3.6/dist-packages (from traitlets>=4.2->IPython->pycaret) (0.2.0)\n",
            "Requirement already satisfied: wcwidth in /usr/local/lib/python3.6/dist-packages (from prompt-toolkit<2.0.0,>=1.0.4->IPython->pycaret) (0.2.5)\n",
            "Requirement already satisfied: ptyprocess>=0.5 in /usr/local/lib/python3.6/dist-packages (from pexpect; sys_platform != \"win32\"->IPython->pycaret) (0.7.0)\n",
            "Requirement already satisfied: certifi>=2017.4.17 in /usr/local/lib/python3.6/dist-packages (from requests>=2.24.0->pandas-profiling>=2.8.0->pycaret) (2020.12.5)\n",
            "Requirement already satisfied: chardet<5,>=3.0.2 in /usr/local/lib/python3.6/dist-packages (from requests>=2.24.0->pandas-profiling>=2.8.0->pycaret) (3.0.4)\n",
            "Requirement already satisfied: urllib3<1.27,>=1.21.1 in /usr/local/lib/python3.6/dist-packages (from requests>=2.24.0->pandas-profiling>=2.8.0->pycaret) (1.24.3)\n",
            "Requirement already satisfied: idna<3,>=2.5 in /usr/local/lib/python3.6/dist-packages (from requests>=2.24.0->pandas-profiling>=2.8.0->pycaret) (2.10)\n",
            "Requirement already satisfied: MarkupSafe>=0.23 in /usr/local/lib/python3.6/dist-packages (from jinja2>=2.11.1->pandas-profiling>=2.8.0->pycaret) (1.1.1)\n",
            "Requirement already satisfied: networkx>=2.4 in /usr/local/lib/python3.6/dist-packages (from visions[type_image_path]==0.6.0->pandas-profiling>=2.8.0->pycaret) (2.5)\n",
            "Collecting imagehash; extra == \"type_image_path\"\n",
            "\u001b[?25l  Downloading https://files.pythonhosted.org/packages/8e/18/9dbb772b5ef73a3069c66bb5bf29b9fb4dd57af0d5790c781c3f559bcca6/ImageHash-4.2.0-py2.py3-none-any.whl (295kB)\n",
            "\u001b[K     |████████████████████████████████| 296kB 44.9MB/s \n",
            "\u001b[?25hRequirement already satisfied: tornado>=4.0 in /usr/local/lib/python3.6/dist-packages (from ipykernel>=4.5.1->ipywidgets->pycaret) (5.1.1)\n",
            "Requirement already satisfied: jupyter-client in /usr/local/lib/python3.6/dist-packages (from ipykernel>=4.5.1->ipywidgets->pycaret) (5.3.5)\n",
            "Requirement already satisfied: notebook>=4.4.1 in /usr/local/lib/python3.6/dist-packages (from widgetsnbextension~=3.5.0->ipywidgets->pycaret) (5.3.1)\n",
            "Requirement already satisfied: jsonschema!=2.5.0,>=2.4 in /usr/local/lib/python3.6/dist-packages (from nbformat>=4.2.0->ipywidgets->pycaret) (2.6.0)\n",
            "Requirement already satisfied: jupyter-core in /usr/local/lib/python3.6/dist-packages (from nbformat>=4.2.0->ipywidgets->pycaret) (4.7.1)\n",
            "Requirement already satisfied: prometheus_client in /usr/local/lib/python3.6/dist-packages (from prometheus-flask-exporter->mlflow->pycaret) (0.9.0)\n",
            "Collecting gitdb<5,>=4.0.1\n",
            "\u001b[?25l  Downloading https://files.pythonhosted.org/packages/48/11/d1800bca0a3bae820b84b7d813ad1eff15a48a64caea9c823fc8c1b119e8/gitdb-4.0.5-py3-none-any.whl (63kB)\n",
            "\u001b[K     |████████████████████████████████| 71kB 7.5MB/s \n",
            "\u001b[?25hCollecting Mako\n",
            "\u001b[?25l  Downloading https://files.pythonhosted.org/packages/5c/db/2d2d88b924aa4674a080aae83b59ea19d593250bfe5ed789947c21736785/Mako-1.1.4.tar.gz (479kB)\n",
            "\u001b[K     |████████████████████████████████| 481kB 44.3MB/s \n",
            "\u001b[?25hCollecting python-editor>=0.3\n",
            "  Downloading https://files.pythonhosted.org/packages/c6/d3/201fc3abe391bbae6606e6f1d598c15d367033332bd54352b12f35513717/python_editor-1.0.4-py3-none-any.whl\n",
            "Requirement already satisfied: Werkzeug>=0.15 in /usr/local/lib/python3.6/dist-packages (from Flask->mlflow->pycaret) (1.0.1)\n",
            "Requirement already satisfied: itsdangerous>=0.24 in /usr/local/lib/python3.6/dist-packages (from Flask->mlflow->pycaret) (1.1.0)\n",
            "Collecting azure-core<2.0.0,>=1.10.0\n",
            "\u001b[?25l  Downloading https://files.pythonhosted.org/packages/12/9e/6bb67fe85f6a89d71f50c86a0da778a5064f749a485ed9ba498067034227/azure_core-1.10.0-py2.py3-none-any.whl (125kB)\n",
            "\u001b[K     |████████████████████████████████| 133kB 42.3MB/s \n",
            "\u001b[?25hCollecting msrest>=0.6.18\n",
            "\u001b[?25l  Downloading https://files.pythonhosted.org/packages/e8/cc/6c96bfb3d3cf4c3bdedfa6b46503223f4c2a4fa388377697e0f8082a4fed/msrest-0.6.21-py2.py3-none-any.whl (85kB)\n",
            "\u001b[K     |████████████████████████████████| 92kB 9.6MB/s \n",
            "\u001b[?25hCollecting cryptography>=2.1.4\n",
            "\u001b[?25l  Downloading https://files.pythonhosted.org/packages/c9/de/7054df0620b5411ba45480f0261e1fb66a53f3db31b28e3aa52c026e72d9/cryptography-3.3.1-cp36-abi3-manylinux2010_x86_64.whl (2.6MB)\n",
            "\u001b[K     |████████████████████████████████| 2.6MB 41.6MB/s \n",
            "\u001b[?25hRequirement already satisfied: tabulate>=0.7.7 in /usr/local/lib/python3.6/dist-packages (from databricks-cli>=0.8.7->mlflow->pycaret) (0.8.7)\n",
            "Collecting websocket-client>=0.32.0\n",
            "\u001b[?25l  Downloading https://files.pythonhosted.org/packages/4c/5f/f61b420143ed1c8dc69f9eaec5ff1ac36109d52c80de49d66e0c36c3dfdf/websocket_client-0.57.0-py2.py3-none-any.whl (200kB)\n",
            "\u001b[K     |████████████████████████████████| 204kB 48.0MB/s \n",
            "\u001b[?25hRequirement already satisfied: importlib-metadata>=0.20; python_version < \"3.8\" in /usr/local/lib/python3.6/dist-packages (from catalogue<1.1.0,>=0.0.7->spacy->pycaret) (3.4.0)\n",
            "Requirement already satisfied: llvmlite>=0.30 in /usr/local/lib/python3.6/dist-packages (from pynndescent>=0.5->umap-learn->pycaret) (0.34.0)\n",
            "Requirement already satisfied: patsy>=0.4.0 in /usr/local/lib/python3.6/dist-packages (from statsmodels->pyod->pycaret) (0.5.1)\n",
            "Requirement already satisfied: psutil in /usr/local/lib/python3.6/dist-packages (from suod->pyod->pycaret) (5.4.8)\n",
            "Requirement already satisfied: PyWavelets in /usr/local/lib/python3.6/dist-packages (from imagehash; extra == \"type_image_path\"->visions[type_image_path]==0.6.0->pandas-profiling>=2.8.0->pycaret) (1.1.1)\n",
            "Requirement already satisfied: pyzmq>=13 in /usr/local/lib/python3.6/dist-packages (from jupyter-client->ipykernel>=4.5.1->ipywidgets->pycaret) (22.0.2)\n",
            "Requirement already satisfied: nbconvert in /usr/local/lib/python3.6/dist-packages (from notebook>=4.4.1->widgetsnbextension~=3.5.0->ipywidgets->pycaret) (5.6.1)\n",
            "Requirement already satisfied: terminado>=0.8.1 in /usr/local/lib/python3.6/dist-packages (from notebook>=4.4.1->widgetsnbextension~=3.5.0->ipywidgets->pycaret) (0.9.2)\n",
            "Requirement already satisfied: Send2Trash in /usr/local/lib/python3.6/dist-packages (from notebook>=4.4.1->widgetsnbextension~=3.5.0->ipywidgets->pycaret) (1.5.0)\n",
            "Collecting smmap<4,>=3.0.1\n",
            "  Downloading https://files.pythonhosted.org/packages/d5/1e/6130925131f639b2acde0f7f18b73e33ce082ff2d90783c436b52040af5a/smmap-3.0.5-py2.py3-none-any.whl\n",
            "Collecting isodate>=0.6.0\n",
            "\u001b[?25l  Downloading https://files.pythonhosted.org/packages/9b/9f/b36f7774ff5ea8e428fdcfc4bb332c39ee5b9362ddd3d40d9516a55221b2/isodate-0.6.0-py2.py3-none-any.whl (45kB)\n",
            "\u001b[K     |████████████████████████████████| 51kB 5.7MB/s \n",
            "\u001b[?25hRequirement already satisfied: requests-oauthlib>=0.5.0 in /usr/local/lib/python3.6/dist-packages (from msrest>=0.6.18->azure-storage-blob>=12.0.0->mlflow->pycaret) (1.3.0)\n",
            "Requirement already satisfied: cffi>=1.12 in /usr/local/lib/python3.6/dist-packages (from cryptography>=2.1.4->azure-storage-blob>=12.0.0->mlflow->pycaret) (1.14.4)\n",
            "Requirement already satisfied: zipp>=0.5 in /usr/local/lib/python3.6/dist-packages (from importlib-metadata>=0.20; python_version < \"3.8\"->catalogue<1.1.0,>=0.0.7->spacy->pycaret) (3.4.0)\n",
            "Requirement already satisfied: typing-extensions>=3.6.4; python_version < \"3.8\" in /usr/local/lib/python3.6/dist-packages (from importlib-metadata>=0.20; python_version < \"3.8\"->catalogue<1.1.0,>=0.0.7->spacy->pycaret) (3.7.4.3)\n",
            "Requirement already satisfied: bleach in /usr/local/lib/python3.6/dist-packages (from nbconvert->notebook>=4.4.1->widgetsnbextension~=3.5.0->ipywidgets->pycaret) (3.3.0)\n",
            "Requirement already satisfied: mistune<2,>=0.8.1 in /usr/local/lib/python3.6/dist-packages (from nbconvert->notebook>=4.4.1->widgetsnbextension~=3.5.0->ipywidgets->pycaret) (0.8.4)\n",
            "Requirement already satisfied: testpath in /usr/local/lib/python3.6/dist-packages (from nbconvert->notebook>=4.4.1->widgetsnbextension~=3.5.0->ipywidgets->pycaret) (0.4.4)\n",
            "Requirement already satisfied: pandocfilters>=1.4.1 in /usr/local/lib/python3.6/dist-packages (from nbconvert->notebook>=4.4.1->widgetsnbextension~=3.5.0->ipywidgets->pycaret) (1.4.3)\n",
            "Requirement already satisfied: defusedxml in /usr/local/lib/python3.6/dist-packages (from nbconvert->notebook>=4.4.1->widgetsnbextension~=3.5.0->ipywidgets->pycaret) (0.6.0)\n",
            "Requirement already satisfied: oauthlib>=3.0.0 in /usr/local/lib/python3.6/dist-packages (from requests-oauthlib>=0.5.0->msrest>=0.6.18->azure-storage-blob>=12.0.0->mlflow->pycaret) (3.1.0)\n",
            "Requirement already satisfied: pycparser in /usr/local/lib/python3.6/dist-packages (from cffi>=1.12->cryptography>=2.1.4->azure-storage-blob>=12.0.0->mlflow->pycaret) (2.20)\n",
            "Requirement already satisfied: packaging in /usr/local/lib/python3.6/dist-packages (from bleach->nbconvert->notebook>=4.4.1->widgetsnbextension~=3.5.0->ipywidgets->pycaret) (20.9)\n",
            "Requirement already satisfied: webencodings in /usr/local/lib/python3.6/dist-packages (from bleach->nbconvert->notebook>=4.4.1->widgetsnbextension~=3.5.0->ipywidgets->pycaret) (0.5.1)\n",
            "Building wheels for collected packages: pyLDAvis, pyod, phik, htmlmin, prometheus-flask-exporter, alembic, databricks-cli, combo, suod, Mako\n",
            "  Building wheel for pyLDAvis (setup.py) ... \u001b[?25l\u001b[?25hdone\n",
            "  Created wheel for pyLDAvis: filename=pyLDAvis-3.0.0-py2.py3-none-any.whl size=136704 sha256=ea9fc5d36bbe68fedca2b1c3bf54764f98b3d3a3ed462135479b00c57fcd6490\n",
            "  Stored in directory: /root/.cache/pip/wheels/e8/6d/d3/85bc954f74554c8ee9bb6e7d03dcf2c1ec1a05526979a8389f\n",
            "  Building wheel for pyod (setup.py) ... \u001b[?25l\u001b[?25hdone\n",
            "  Created wheel for pyod: filename=pyod-0.8.6-cp36-none-any.whl size=112146 sha256=8e4ab227932fd549102c59bd8612b0575f9563151b6e4c4daf29d2ee491ddc37\n",
            "  Stored in directory: /root/.cache/pip/wheels/48/95/81/2c6f52c3d366e7b5ef4770550f8bf0764257c66fbe64deecdb\n",
            "  Building wheel for phik (setup.py) ... \u001b[?25l\u001b[?25hdone\n",
            "  Created wheel for phik: filename=phik-0.11.0-cp36-none-any.whl size=599738 sha256=364ef5035d1c3d43004b199143d269f879c45dde5d2c6c83780daf9db11ed33b\n",
            "  Stored in directory: /root/.cache/pip/wheels/af/54/11/aba77f21075918de02f7964eabfe8c10d5542df9e6ad10b225\n",
            "  Building wheel for htmlmin (setup.py) ... \u001b[?25l\u001b[?25hdone\n",
            "  Created wheel for htmlmin: filename=htmlmin-0.1.12-cp36-none-any.whl size=27085 sha256=7e6a9f24b8fd38f38527dcbabdaa9707e2e23353a43432a4b7f294f9bd752153\n",
            "  Stored in directory: /root/.cache/pip/wheels/43/07/ac/7c5a9d708d65247ac1f94066cf1db075540b85716c30255459\n",
            "  Building wheel for prometheus-flask-exporter (setup.py) ... \u001b[?25l\u001b[?25hdone\n",
            "  Created wheel for prometheus-flask-exporter: filename=prometheus_flask_exporter-0.18.1-cp36-none-any.whl size=17159 sha256=3d7ad3d2e938b820e8f6b263ed772ea7ecbb9c0e1d5c9e851f3341a0197f1ef2\n",
            "  Stored in directory: /root/.cache/pip/wheels/b4/1f/b8/66bd9bc3a9d6c6987ff6c4dfeb6f1fe97b5a0e5ed5849c0437\n",
            "  Building wheel for alembic (setup.py) ... \u001b[?25l\u001b[?25hdone\n",
            "  Created wheel for alembic: filename=alembic-1.4.1-py2.py3-none-any.whl size=158155 sha256=c46168e185f9aa32ff781d2ea1559a632ffb3bb32de2869182421c36948a9be4\n",
            "  Stored in directory: /root/.cache/pip/wheels/84/07/f7/12f7370ca47a66030c2edeedcc23dec26ea0ac22dcb4c4a0f3\n",
            "  Building wheel for databricks-cli (setup.py) ... \u001b[?25l\u001b[?25hdone\n",
            "  Created wheel for databricks-cli: filename=databricks_cli-0.14.1-cp36-none-any.whl size=100579 sha256=d466180abf58a9e8d414cd27599d5194738cbfc495909e8e1b759e1418e7fdae\n",
            "  Stored in directory: /root/.cache/pip/wheels/82/91/ac/5d417ee5ccbb76c8cca096cf4cfb9ed9d49d889d1d1ca0fc39\n",
            "  Building wheel for combo (setup.py) ... \u001b[?25l\u001b[?25hdone\n",
            "  Created wheel for combo: filename=combo-0.1.2-cp36-none-any.whl size=42028 sha256=2342e0218aeb2d2b664e5350b57b617ae41cf44fbc15dcd6e58ca63c13cbfce3\n",
            "  Stored in directory: /root/.cache/pip/wheels/01/d9/bf/d1a371a5f0844cd8a53c04c14daa89974c93f429dda9dceb86\n",
            "  Building wheel for suod (setup.py) ... \u001b[?25l\u001b[?25hdone\n",
            "  Created wheel for suod: filename=suod-0.0.6-cp36-none-any.whl size=2154759 sha256=87fea3e2be1060a4f365e94ca66c8ff0b5e2d89190103b3317e5cd735982b056\n",
            "  Stored in directory: /root/.cache/pip/wheels/c5/d7/c1/6c778aee7fccfe3c054ea9bab92c5994ae3a0f6bba7078541e\n",
            "  Building wheel for Mako (setup.py) ... \u001b[?25l\u001b[?25hdone\n",
            "  Created wheel for Mako: filename=Mako-1.1.4-py2.py3-none-any.whl size=75675 sha256=73621fc1543993ae54486ce56db52398d6860bc08686a93cec026a97fa457a01\n",
            "  Stored in directory: /root/.cache/pip/wheels/ad/10/d3/aeb26e20d19045e2a68e5d3cbb57432e11b5d9c92c99f98d47\n",
            "Successfully built pyLDAvis pyod phik htmlmin prometheus-flask-exporter alembic databricks-cli combo suod Mako\n",
            "\u001b[31mERROR: google-colab 1.0.0 has requirement requests~=2.23.0, but you'll have requests 2.25.1 which is incompatible.\u001b[0m\n",
            "\u001b[31mERROR: datascience 0.10.6 has requirement folium==0.2.1, but you'll have folium 0.8.3 which is incompatible.\u001b[0m\n",
            "Installing collected packages: threadpoolctl, scikit-learn, kmodes, imbalanced-learn, catboost, confuse, requests, phik, htmlmin, tangled-up-in-unicode, tqdm, imagehash, visions, pandas-profiling, yellowbrick, xgboost, funcy, pyLDAvis, scikit-plot, prometheus-flask-exporter, gunicorn, smmap, gitdb, gitpython, Mako, python-editor, alembic, azure-core, isodate, msrest, cryptography, azure-storage-blob, databricks-cli, querystring-parser, websocket-client, docker, mlflow, lightgbm, combo, suod, pyod, pycaret\n",
            "  Found existing installation: scikit-learn 0.22.2.post1\n",
            "    Uninstalling scikit-learn-0.22.2.post1:\n",
            "      Successfully uninstalled scikit-learn-0.22.2.post1\n",
            "  Found existing installation: imbalanced-learn 0.4.3\n",
            "    Uninstalling imbalanced-learn-0.4.3:\n",
            "      Successfully uninstalled imbalanced-learn-0.4.3\n",
            "  Found existing installation: requests 2.23.0\n",
            "    Uninstalling requests-2.23.0:\n",
            "      Successfully uninstalled requests-2.23.0\n",
            "  Found existing installation: tqdm 4.41.1\n",
            "    Uninstalling tqdm-4.41.1:\n",
            "      Successfully uninstalled tqdm-4.41.1\n",
            "  Found existing installation: pandas-profiling 1.4.1\n",
            "    Uninstalling pandas-profiling-1.4.1:\n",
            "      Successfully uninstalled pandas-profiling-1.4.1\n",
            "  Found existing installation: yellowbrick 0.9.1\n",
            "    Uninstalling yellowbrick-0.9.1:\n",
            "      Successfully uninstalled yellowbrick-0.9.1\n",
            "  Found existing installation: xgboost 0.90\n",
            "    Uninstalling xgboost-0.90:\n",
            "      Successfully uninstalled xgboost-0.90\n",
            "  Found existing installation: lightgbm 2.2.3\n",
            "    Uninstalling lightgbm-2.2.3:\n",
            "      Successfully uninstalled lightgbm-2.2.3\n",
            "Successfully installed Mako-1.1.4 alembic-1.4.1 azure-core-1.10.0 azure-storage-blob-12.7.1 catboost-0.24.4 combo-0.1.2 confuse-1.4.0 cryptography-3.3.1 databricks-cli-0.14.1 docker-4.4.1 funcy-1.15 gitdb-4.0.5 gitpython-3.1.12 gunicorn-20.0.4 htmlmin-0.1.12 imagehash-4.2.0 imbalanced-learn-0.7.0 isodate-0.6.0 kmodes-0.10.2 lightgbm-3.1.1 mlflow-1.13.1 msrest-0.6.21 pandas-profiling-2.10.0 phik-0.11.0 prometheus-flask-exporter-0.18.1 pyLDAvis-3.0.0 pycaret-2.2.3 pyod-0.8.6 python-editor-1.0.4 querystring-parser-1.2.4 requests-2.25.1 scikit-learn-0.23.2 scikit-plot-0.3.7 smmap-3.0.5 suod-0.0.6 tangled-up-in-unicode-0.0.6 threadpoolctl-2.1.0 tqdm-4.56.0 visions-0.6.0 websocket-client-0.57.0 xgboost-1.3.3 yellowbrick-1.2.1\n"
          ],
          "name": "stdout"
        },
        {
          "output_type": "display_data",
          "data": {
            "application/vnd.colab-display-data+json": {
              "pip_warning": {
                "packages": [
                  "pandas_profiling"
                ]
              }
            }
          },
          "metadata": {
            "tags": []
          }
        }
      ]
    },
    {
      "cell_type": "code",
      "metadata": {
        "colab": {
          "base_uri": "https://localhost:8080/"
        },
        "id": "mT_CcWEsQdTe",
        "outputId": "a99f3ba1-5bee-4b60-de48-d70dc6dc5489"
      },
      "source": [
        "data = df.sample(frac=0.9, random_state=786)\n",
        "data_unseen = df.drop(data.index)\n",
        "\n",
        "data.reset_index(drop=True, inplace=True)\n",
        "data_unseen.reset_index(drop=True, inplace=True)\n",
        "\n",
        "print('Data for Modeling: ' + str(data.shape))\n",
        "print('Unseen Data For Predictions: ' + str(data_unseen.shape))"
      ],
      "execution_count": null,
      "outputs": [
        {
          "output_type": "stream",
          "text": [
            "Data for Modeling: (22645, 7)\n",
            "Unseen Data For Predictions: (2516, 7)\n"
          ],
          "name": "stdout"
        }
      ]
    },
    {
      "cell_type": "code",
      "metadata": {
        "colab": {
          "base_uri": "https://localhost:8080/",
          "height": 1000
        },
        "id": "LMigXz4vQdTe",
        "outputId": "87271e19-ca4c-4845-fa76-266857b371bd"
      },
      "source": [
        "from pycaret.regression import *\n",
        "exp_reg101 = setup(data = df, target = 'AveragePrice')"
      ],
      "execution_count": null,
      "outputs": [
        {
          "output_type": "display_data",
          "data": {
            "text/html": [
              "<div>\n",
              "<style scoped>\n",
              "    .dataframe tbody tr th:only-of-type {\n",
              "        vertical-align: middle;\n",
              "    }\n",
              "\n",
              "    .dataframe tbody tr th {\n",
              "        vertical-align: top;\n",
              "    }\n",
              "\n",
              "    .dataframe thead th {\n",
              "        text-align: right;\n",
              "    }\n",
              "</style>\n",
              "<table border=\"1\" class=\"dataframe\">\n",
              "  <thead>\n",
              "    <tr style=\"text-align: right;\">\n",
              "      <th></th>\n",
              "      <th>Description</th>\n",
              "      <th>Value</th>\n",
              "    </tr>\n",
              "  </thead>\n",
              "  <tbody>\n",
              "    <tr>\n",
              "      <th>0</th>\n",
              "      <td>session_id</td>\n",
              "      <td>8978</td>\n",
              "    </tr>\n",
              "    <tr>\n",
              "      <th>1</th>\n",
              "      <td>Target</td>\n",
              "      <td>AveragePrice</td>\n",
              "    </tr>\n",
              "    <tr>\n",
              "      <th>2</th>\n",
              "      <td>Original Data</td>\n",
              "      <td>(25161, 7)</td>\n",
              "    </tr>\n",
              "    <tr>\n",
              "      <th>3</th>\n",
              "      <td>Missing Values</td>\n",
              "      <td>False</td>\n",
              "    </tr>\n",
              "    <tr>\n",
              "      <th>4</th>\n",
              "      <td>Numeric Features</td>\n",
              "      <td>2</td>\n",
              "    </tr>\n",
              "    <tr>\n",
              "      <th>5</th>\n",
              "      <td>Categorical Features</td>\n",
              "      <td>3</td>\n",
              "    </tr>\n",
              "    <tr>\n",
              "      <th>6</th>\n",
              "      <td>Ordinal Features</td>\n",
              "      <td>False</td>\n",
              "    </tr>\n",
              "    <tr>\n",
              "      <th>7</th>\n",
              "      <td>High Cardinality Features</td>\n",
              "      <td>False</td>\n",
              "    </tr>\n",
              "    <tr>\n",
              "      <th>8</th>\n",
              "      <td>High Cardinality Method</td>\n",
              "      <td>None</td>\n",
              "    </tr>\n",
              "    <tr>\n",
              "      <th>9</th>\n",
              "      <td>Transformed Train Set</td>\n",
              "      <td>(17612, 77)</td>\n",
              "    </tr>\n",
              "    <tr>\n",
              "      <th>10</th>\n",
              "      <td>Transformed Test Set</td>\n",
              "      <td>(7549, 77)</td>\n",
              "    </tr>\n",
              "    <tr>\n",
              "      <th>11</th>\n",
              "      <td>Shuffle Train-Test</td>\n",
              "      <td>True</td>\n",
              "    </tr>\n",
              "    <tr>\n",
              "      <th>12</th>\n",
              "      <td>Stratify Train-Test</td>\n",
              "      <td>False</td>\n",
              "    </tr>\n",
              "    <tr>\n",
              "      <th>13</th>\n",
              "      <td>Fold Generator</td>\n",
              "      <td>KFold</td>\n",
              "    </tr>\n",
              "    <tr>\n",
              "      <th>14</th>\n",
              "      <td>Fold Number</td>\n",
              "      <td>10</td>\n",
              "    </tr>\n",
              "    <tr>\n",
              "      <th>15</th>\n",
              "      <td>CPU Jobs</td>\n",
              "      <td>-1</td>\n",
              "    </tr>\n",
              "    <tr>\n",
              "      <th>16</th>\n",
              "      <td>Use GPU</td>\n",
              "      <td>False</td>\n",
              "    </tr>\n",
              "    <tr>\n",
              "      <th>17</th>\n",
              "      <td>Log Experiment</td>\n",
              "      <td>False</td>\n",
              "    </tr>\n",
              "    <tr>\n",
              "      <th>18</th>\n",
              "      <td>Experiment Name</td>\n",
              "      <td>reg-default-name</td>\n",
              "    </tr>\n",
              "    <tr>\n",
              "      <th>19</th>\n",
              "      <td>USI</td>\n",
              "      <td>0ebe</td>\n",
              "    </tr>\n",
              "    <tr>\n",
              "      <th>20</th>\n",
              "      <td>Imputation Type</td>\n",
              "      <td>simple</td>\n",
              "    </tr>\n",
              "    <tr>\n",
              "      <th>21</th>\n",
              "      <td>Iterative Imputation Iteration</td>\n",
              "      <td>None</td>\n",
              "    </tr>\n",
              "    <tr>\n",
              "      <th>22</th>\n",
              "      <td>Numeric Imputer</td>\n",
              "      <td>mean</td>\n",
              "    </tr>\n",
              "    <tr>\n",
              "      <th>23</th>\n",
              "      <td>Iterative Imputation Numeric Model</td>\n",
              "      <td>None</td>\n",
              "    </tr>\n",
              "    <tr>\n",
              "      <th>24</th>\n",
              "      <td>Categorical Imputer</td>\n",
              "      <td>constant</td>\n",
              "    </tr>\n",
              "    <tr>\n",
              "      <th>25</th>\n",
              "      <td>Iterative Imputation Categorical Model</td>\n",
              "      <td>None</td>\n",
              "    </tr>\n",
              "    <tr>\n",
              "      <th>26</th>\n",
              "      <td>Unknown Categoricals Handling</td>\n",
              "      <td>least_frequent</td>\n",
              "    </tr>\n",
              "    <tr>\n",
              "      <th>27</th>\n",
              "      <td>Normalize</td>\n",
              "      <td>False</td>\n",
              "    </tr>\n",
              "    <tr>\n",
              "      <th>28</th>\n",
              "      <td>Normalize Method</td>\n",
              "      <td>None</td>\n",
              "    </tr>\n",
              "    <tr>\n",
              "      <th>29</th>\n",
              "      <td>Transformation</td>\n",
              "      <td>False</td>\n",
              "    </tr>\n",
              "    <tr>\n",
              "      <th>30</th>\n",
              "      <td>Transformation Method</td>\n",
              "      <td>None</td>\n",
              "    </tr>\n",
              "    <tr>\n",
              "      <th>31</th>\n",
              "      <td>PCA</td>\n",
              "      <td>False</td>\n",
              "    </tr>\n",
              "    <tr>\n",
              "      <th>32</th>\n",
              "      <td>PCA Method</td>\n",
              "      <td>None</td>\n",
              "    </tr>\n",
              "    <tr>\n",
              "      <th>33</th>\n",
              "      <td>PCA Components</td>\n",
              "      <td>None</td>\n",
              "    </tr>\n",
              "    <tr>\n",
              "      <th>34</th>\n",
              "      <td>Ignore Low Variance</td>\n",
              "      <td>False</td>\n",
              "    </tr>\n",
              "    <tr>\n",
              "      <th>35</th>\n",
              "      <td>Combine Rare Levels</td>\n",
              "      <td>False</td>\n",
              "    </tr>\n",
              "    <tr>\n",
              "      <th>36</th>\n",
              "      <td>Rare Level Threshold</td>\n",
              "      <td>None</td>\n",
              "    </tr>\n",
              "    <tr>\n",
              "      <th>37</th>\n",
              "      <td>Numeric Binning</td>\n",
              "      <td>False</td>\n",
              "    </tr>\n",
              "    <tr>\n",
              "      <th>38</th>\n",
              "      <td>Remove Outliers</td>\n",
              "      <td>False</td>\n",
              "    </tr>\n",
              "    <tr>\n",
              "      <th>39</th>\n",
              "      <td>Outliers Threshold</td>\n",
              "      <td>None</td>\n",
              "    </tr>\n",
              "    <tr>\n",
              "      <th>40</th>\n",
              "      <td>Remove Multicollinearity</td>\n",
              "      <td>False</td>\n",
              "    </tr>\n",
              "    <tr>\n",
              "      <th>41</th>\n",
              "      <td>Multicollinearity Threshold</td>\n",
              "      <td>None</td>\n",
              "    </tr>\n",
              "    <tr>\n",
              "      <th>42</th>\n",
              "      <td>Clustering</td>\n",
              "      <td>False</td>\n",
              "    </tr>\n",
              "    <tr>\n",
              "      <th>43</th>\n",
              "      <td>Clustering Iteration</td>\n",
              "      <td>None</td>\n",
              "    </tr>\n",
              "    <tr>\n",
              "      <th>44</th>\n",
              "      <td>Polynomial Features</td>\n",
              "      <td>False</td>\n",
              "    </tr>\n",
              "    <tr>\n",
              "      <th>45</th>\n",
              "      <td>Polynomial Degree</td>\n",
              "      <td>None</td>\n",
              "    </tr>\n",
              "    <tr>\n",
              "      <th>46</th>\n",
              "      <td>Trignometry Features</td>\n",
              "      <td>False</td>\n",
              "    </tr>\n",
              "    <tr>\n",
              "      <th>47</th>\n",
              "      <td>Polynomial Threshold</td>\n",
              "      <td>None</td>\n",
              "    </tr>\n",
              "    <tr>\n",
              "      <th>48</th>\n",
              "      <td>Group Features</td>\n",
              "      <td>False</td>\n",
              "    </tr>\n",
              "    <tr>\n",
              "      <th>49</th>\n",
              "      <td>Feature Selection</td>\n",
              "      <td>False</td>\n",
              "    </tr>\n",
              "    <tr>\n",
              "      <th>50</th>\n",
              "      <td>Features Selection Threshold</td>\n",
              "      <td>None</td>\n",
              "    </tr>\n",
              "    <tr>\n",
              "      <th>51</th>\n",
              "      <td>Feature Interaction</td>\n",
              "      <td>False</td>\n",
              "    </tr>\n",
              "    <tr>\n",
              "      <th>52</th>\n",
              "      <td>Feature Ratio</td>\n",
              "      <td>False</td>\n",
              "    </tr>\n",
              "    <tr>\n",
              "      <th>53</th>\n",
              "      <td>Interaction Threshold</td>\n",
              "      <td>None</td>\n",
              "    </tr>\n",
              "    <tr>\n",
              "      <th>54</th>\n",
              "      <td>Transform Target</td>\n",
              "      <td>False</td>\n",
              "    </tr>\n",
              "    <tr>\n",
              "      <th>55</th>\n",
              "      <td>Transform Target Method</td>\n",
              "      <td>box-cox</td>\n",
              "    </tr>\n",
              "  </tbody>\n",
              "</table>\n",
              "</div>"
            ],
            "text/plain": [
              "                               Description             Value\n",
              "0                               session_id              8978\n",
              "1                                   Target      AveragePrice\n",
              "2                            Original Data        (25161, 7)\n",
              "3                           Missing Values             False\n",
              "4                         Numeric Features                 2\n",
              "5                     Categorical Features                 3\n",
              "6                         Ordinal Features             False\n",
              "7                High Cardinality Features             False\n",
              "8                  High Cardinality Method              None\n",
              "9                    Transformed Train Set       (17612, 77)\n",
              "10                    Transformed Test Set        (7549, 77)\n",
              "11                      Shuffle Train-Test              True\n",
              "12                     Stratify Train-Test             False\n",
              "13                          Fold Generator             KFold\n",
              "14                             Fold Number                10\n",
              "15                                CPU Jobs                -1\n",
              "16                                 Use GPU             False\n",
              "17                          Log Experiment             False\n",
              "18                         Experiment Name  reg-default-name\n",
              "19                                     USI              0ebe\n",
              "20                         Imputation Type            simple\n",
              "21          Iterative Imputation Iteration              None\n",
              "22                         Numeric Imputer              mean\n",
              "23      Iterative Imputation Numeric Model              None\n",
              "24                     Categorical Imputer          constant\n",
              "25  Iterative Imputation Categorical Model              None\n",
              "26           Unknown Categoricals Handling    least_frequent\n",
              "27                               Normalize             False\n",
              "28                        Normalize Method              None\n",
              "29                          Transformation             False\n",
              "30                   Transformation Method              None\n",
              "31                                     PCA             False\n",
              "32                              PCA Method              None\n",
              "33                          PCA Components              None\n",
              "34                     Ignore Low Variance             False\n",
              "35                     Combine Rare Levels             False\n",
              "36                    Rare Level Threshold              None\n",
              "37                         Numeric Binning             False\n",
              "38                         Remove Outliers             False\n",
              "39                      Outliers Threshold              None\n",
              "40                Remove Multicollinearity             False\n",
              "41             Multicollinearity Threshold              None\n",
              "42                              Clustering             False\n",
              "43                    Clustering Iteration              None\n",
              "44                     Polynomial Features             False\n",
              "45                       Polynomial Degree              None\n",
              "46                    Trignometry Features             False\n",
              "47                    Polynomial Threshold              None\n",
              "48                          Group Features             False\n",
              "49                       Feature Selection             False\n",
              "50            Features Selection Threshold              None\n",
              "51                     Feature Interaction             False\n",
              "52                           Feature Ratio             False\n",
              "53                   Interaction Threshold              None\n",
              "54                        Transform Target             False\n",
              "55                 Transform Target Method           box-cox"
            ]
          },
          "metadata": {
            "tags": []
          }
        }
      ]
    },
    {
      "cell_type": "code",
      "metadata": {
        "colab": {
          "background_save": true,
          "base_uri": "https://localhost:8080/",
          "height": 606
        },
        "id": "pLx0bvkZQdTf",
        "scrolled": true,
        "outputId": "bff237d5-4b6d-4fdd-cb54-c6883efb3b89"
      },
      "source": [
        "best = compare_models(exclude = ['ransac'])"
      ],
      "execution_count": null,
      "outputs": [
        {
          "output_type": "display_data",
          "data": {
            "text/html": [
              "<div>\n",
              "<style scoped>\n",
              "    .dataframe tbody tr th:only-of-type {\n",
              "        vertical-align: middle;\n",
              "    }\n",
              "\n",
              "    .dataframe tbody tr th {\n",
              "        vertical-align: top;\n",
              "    }\n",
              "\n",
              "    .dataframe thead th {\n",
              "        text-align: right;\n",
              "    }\n",
              "</style>\n",
              "<table border=\"1\" class=\"dataframe\">\n",
              "  <thead>\n",
              "    <tr style=\"text-align: right;\">\n",
              "      <th></th>\n",
              "      <th>Model</th>\n",
              "      <th>MAE</th>\n",
              "      <th>MSE</th>\n",
              "      <th>RMSE</th>\n",
              "      <th>R2</th>\n",
              "      <th>RMSLE</th>\n",
              "      <th>MAPE</th>\n",
              "      <th>TT (Sec)</th>\n",
              "    </tr>\n",
              "  </thead>\n",
              "  <tbody>\n",
              "    <tr>\n",
              "      <th>catboost</th>\n",
              "      <td>CatBoost Regressor</td>\n",
              "      <td>0.1144</td>\n",
              "      <td>0.0253</td>\n",
              "      <td>0.1590</td>\n",
              "      <td>8.210000e-01</td>\n",
              "      <td>0.0643</td>\n",
              "      <td>0.0846</td>\n",
              "      <td>3.879</td>\n",
              "    </tr>\n",
              "    <tr>\n",
              "      <th>rf</th>\n",
              "      <td>Random Forest Regressor</td>\n",
              "      <td>0.1091</td>\n",
              "      <td>0.0256</td>\n",
              "      <td>0.1600</td>\n",
              "      <td>8.187000e-01</td>\n",
              "      <td>0.0644</td>\n",
              "      <td>0.0805</td>\n",
              "      <td>12.116</td>\n",
              "    </tr>\n",
              "    <tr>\n",
              "      <th>xgboost</th>\n",
              "      <td>Extreme Gradient Boosting</td>\n",
              "      <td>0.1141</td>\n",
              "      <td>0.0258</td>\n",
              "      <td>0.1607</td>\n",
              "      <td>8.172000e-01</td>\n",
              "      <td>0.0648</td>\n",
              "      <td>0.0841</td>\n",
              "      <td>7.736</td>\n",
              "    </tr>\n",
              "    <tr>\n",
              "      <th>et</th>\n",
              "      <td>Extra Trees Regressor</td>\n",
              "      <td>0.1095</td>\n",
              "      <td>0.0284</td>\n",
              "      <td>0.1685</td>\n",
              "      <td>7.990000e-01</td>\n",
              "      <td>0.0684</td>\n",
              "      <td>0.0811</td>\n",
              "      <td>13.678</td>\n",
              "    </tr>\n",
              "    <tr>\n",
              "      <th>lightgbm</th>\n",
              "      <td>Light Gradient Boosting Machine</td>\n",
              "      <td>0.1277</td>\n",
              "      <td>0.0301</td>\n",
              "      <td>0.1733</td>\n",
              "      <td>7.873000e-01</td>\n",
              "      <td>0.0704</td>\n",
              "      <td>0.0953</td>\n",
              "      <td>0.212</td>\n",
              "    </tr>\n",
              "    <tr>\n",
              "      <th>dt</th>\n",
              "      <td>Decision Tree Regressor</td>\n",
              "      <td>0.1415</td>\n",
              "      <td>0.0466</td>\n",
              "      <td>0.2157</td>\n",
              "      <td>6.702000e-01</td>\n",
              "      <td>0.0867</td>\n",
              "      <td>0.1036</td>\n",
              "      <td>0.211</td>\n",
              "    </tr>\n",
              "    <tr>\n",
              "      <th>gbr</th>\n",
              "      <td>Gradient Boosting Regressor</td>\n",
              "      <td>0.1733</td>\n",
              "      <td>0.0516</td>\n",
              "      <td>0.2270</td>\n",
              "      <td>6.352000e-01</td>\n",
              "      <td>0.0926</td>\n",
              "      <td>0.1318</td>\n",
              "      <td>2.509</td>\n",
              "    </tr>\n",
              "    <tr>\n",
              "      <th>ridge</th>\n",
              "      <td>Ridge Regression</td>\n",
              "      <td>0.1849</td>\n",
              "      <td>0.0583</td>\n",
              "      <td>0.2414</td>\n",
              "      <td>5.877000e-01</td>\n",
              "      <td>0.0984</td>\n",
              "      <td>0.1394</td>\n",
              "      <td>0.035</td>\n",
              "    </tr>\n",
              "    <tr>\n",
              "      <th>br</th>\n",
              "      <td>Bayesian Ridge</td>\n",
              "      <td>0.1848</td>\n",
              "      <td>0.0583</td>\n",
              "      <td>0.2413</td>\n",
              "      <td>5.877000e-01</td>\n",
              "      <td>0.0984</td>\n",
              "      <td>0.1394</td>\n",
              "      <td>0.131</td>\n",
              "    </tr>\n",
              "    <tr>\n",
              "      <th>lar</th>\n",
              "      <td>Least Angle Regression</td>\n",
              "      <td>0.1863</td>\n",
              "      <td>0.0591</td>\n",
              "      <td>0.2430</td>\n",
              "      <td>5.819000e-01</td>\n",
              "      <td>0.0991</td>\n",
              "      <td>0.1405</td>\n",
              "      <td>0.050</td>\n",
              "    </tr>\n",
              "    <tr>\n",
              "      <th>omp</th>\n",
              "      <td>Orthogonal Matching Pursuit</td>\n",
              "      <td>0.2124</td>\n",
              "      <td>0.0758</td>\n",
              "      <td>0.2752</td>\n",
              "      <td>4.638000e-01</td>\n",
              "      <td>0.1128</td>\n",
              "      <td>0.1626</td>\n",
              "      <td>0.037</td>\n",
              "    </tr>\n",
              "    <tr>\n",
              "      <th>ada</th>\n",
              "      <td>AdaBoost Regressor</td>\n",
              "      <td>0.2302</td>\n",
              "      <td>0.0828</td>\n",
              "      <td>0.2877</td>\n",
              "      <td>4.137000e-01</td>\n",
              "      <td>0.1210</td>\n",
              "      <td>0.1877</td>\n",
              "      <td>1.419</td>\n",
              "    </tr>\n",
              "    <tr>\n",
              "      <th>knn</th>\n",
              "      <td>K Neighbors Regressor</td>\n",
              "      <td>0.2348</td>\n",
              "      <td>0.0946</td>\n",
              "      <td>0.3074</td>\n",
              "      <td>3.308000e-01</td>\n",
              "      <td>0.1256</td>\n",
              "      <td>0.1779</td>\n",
              "      <td>0.262</td>\n",
              "    </tr>\n",
              "    <tr>\n",
              "      <th>lr</th>\n",
              "      <td>Linear Regression</td>\n",
              "      <td>0.2889</td>\n",
              "      <td>0.1351</td>\n",
              "      <td>0.3674</td>\n",
              "      <td>4.430000e-02</td>\n",
              "      <td>0.1517</td>\n",
              "      <td>0.2274</td>\n",
              "      <td>0.338</td>\n",
              "    </tr>\n",
              "    <tr>\n",
              "      <th>lasso</th>\n",
              "      <td>Lasso Regression</td>\n",
              "      <td>0.2903</td>\n",
              "      <td>0.1366</td>\n",
              "      <td>0.3696</td>\n",
              "      <td>3.330000e-02</td>\n",
              "      <td>0.1527</td>\n",
              "      <td>0.2289</td>\n",
              "      <td>0.186</td>\n",
              "    </tr>\n",
              "    <tr>\n",
              "      <th>en</th>\n",
              "      <td>Elastic Net</td>\n",
              "      <td>0.2903</td>\n",
              "      <td>0.1366</td>\n",
              "      <td>0.3696</td>\n",
              "      <td>3.330000e-02</td>\n",
              "      <td>0.1527</td>\n",
              "      <td>0.2289</td>\n",
              "      <td>0.205</td>\n",
              "    </tr>\n",
              "    <tr>\n",
              "      <th>llar</th>\n",
              "      <td>Lasso Least Angle Regression</td>\n",
              "      <td>0.2954</td>\n",
              "      <td>0.1414</td>\n",
              "      <td>0.3760</td>\n",
              "      <td>-7.000000e-04</td>\n",
              "      <td>0.1550</td>\n",
              "      <td>0.2327</td>\n",
              "      <td>0.036</td>\n",
              "    </tr>\n",
              "    <tr>\n",
              "      <th>huber</th>\n",
              "      <td>Huber Regressor</td>\n",
              "      <td>1.3413</td>\n",
              "      <td>2.0456</td>\n",
              "      <td>1.4301</td>\n",
              "      <td>-1.348620e+01</td>\n",
              "      <td>0.8307</td>\n",
              "      <td>0.9526</td>\n",
              "      <td>0.248</td>\n",
              "    </tr>\n",
              "    <tr>\n",
              "      <th>par</th>\n",
              "      <td>Passive Aggressive Regressor</td>\n",
              "      <td>100.9025</td>\n",
              "      <td>405369.6630</td>\n",
              "      <td>397.1640</td>\n",
              "      <td>-2.749024e+06</td>\n",
              "      <td>2.3717</td>\n",
              "      <td>93.6073</td>\n",
              "      <td>0.093</td>\n",
              "    </tr>\n",
              "  </tbody>\n",
              "</table>\n",
              "</div>"
            ],
            "text/plain": [
              "                                    Model       MAE          MSE      RMSE  \\\n",
              "catboost               CatBoost Regressor    0.1144       0.0253    0.1590   \n",
              "rf                Random Forest Regressor    0.1091       0.0256    0.1600   \n",
              "xgboost         Extreme Gradient Boosting    0.1141       0.0258    0.1607   \n",
              "et                  Extra Trees Regressor    0.1095       0.0284    0.1685   \n",
              "lightgbm  Light Gradient Boosting Machine    0.1277       0.0301    0.1733   \n",
              "dt                Decision Tree Regressor    0.1415       0.0466    0.2157   \n",
              "gbr           Gradient Boosting Regressor    0.1733       0.0516    0.2270   \n",
              "ridge                    Ridge Regression    0.1849       0.0583    0.2414   \n",
              "br                         Bayesian Ridge    0.1848       0.0583    0.2413   \n",
              "lar                Least Angle Regression    0.1863       0.0591    0.2430   \n",
              "omp           Orthogonal Matching Pursuit    0.2124       0.0758    0.2752   \n",
              "ada                    AdaBoost Regressor    0.2302       0.0828    0.2877   \n",
              "knn                 K Neighbors Regressor    0.2348       0.0946    0.3074   \n",
              "lr                      Linear Regression    0.2889       0.1351    0.3674   \n",
              "lasso                    Lasso Regression    0.2903       0.1366    0.3696   \n",
              "en                            Elastic Net    0.2903       0.1366    0.3696   \n",
              "llar         Lasso Least Angle Regression    0.2954       0.1414    0.3760   \n",
              "huber                     Huber Regressor    1.3413       2.0456    1.4301   \n",
              "par          Passive Aggressive Regressor  100.9025  405369.6630  397.1640   \n",
              "\n",
              "                    R2   RMSLE     MAPE  TT (Sec)  \n",
              "catboost  8.210000e-01  0.0643   0.0846     3.879  \n",
              "rf        8.187000e-01  0.0644   0.0805    12.116  \n",
              "xgboost   8.172000e-01  0.0648   0.0841     7.736  \n",
              "et        7.990000e-01  0.0684   0.0811    13.678  \n",
              "lightgbm  7.873000e-01  0.0704   0.0953     0.212  \n",
              "dt        6.702000e-01  0.0867   0.1036     0.211  \n",
              "gbr       6.352000e-01  0.0926   0.1318     2.509  \n",
              "ridge     5.877000e-01  0.0984   0.1394     0.035  \n",
              "br        5.877000e-01  0.0984   0.1394     0.131  \n",
              "lar       5.819000e-01  0.0991   0.1405     0.050  \n",
              "omp       4.638000e-01  0.1128   0.1626     0.037  \n",
              "ada       4.137000e-01  0.1210   0.1877     1.419  \n",
              "knn       3.308000e-01  0.1256   0.1779     0.262  \n",
              "lr        4.430000e-02  0.1517   0.2274     0.338  \n",
              "lasso     3.330000e-02  0.1527   0.2289     0.186  \n",
              "en        3.330000e-02  0.1527   0.2289     0.205  \n",
              "llar     -7.000000e-04  0.1550   0.2327     0.036  \n",
              "huber    -1.348620e+01  0.8307   0.9526     0.248  \n",
              "par      -2.749024e+06  2.3717  93.6073     0.093  "
            ]
          },
          "metadata": {
            "tags": []
          }
        }
      ]
    },
    {
      "cell_type": "code",
      "metadata": {
        "colab": {
          "background_save": true
        },
        "collapsed": true,
        "id": "2SYU7_2UQdTf",
        "outputId": "7b365de0-978a-488a-df2d-626852bb6aa0"
      },
      "source": [
        "models()"
      ],
      "execution_count": null,
      "outputs": [
        {
          "output_type": "execute_result",
          "data": {
            "text/html": [
              "<div>\n",
              "<style scoped>\n",
              "    .dataframe tbody tr th:only-of-type {\n",
              "        vertical-align: middle;\n",
              "    }\n",
              "\n",
              "    .dataframe tbody tr th {\n",
              "        vertical-align: top;\n",
              "    }\n",
              "\n",
              "    .dataframe thead th {\n",
              "        text-align: right;\n",
              "    }\n",
              "</style>\n",
              "<table border=\"1\" class=\"dataframe\">\n",
              "  <thead>\n",
              "    <tr style=\"text-align: right;\">\n",
              "      <th></th>\n",
              "      <th>Name</th>\n",
              "      <th>Reference</th>\n",
              "      <th>Turbo</th>\n",
              "    </tr>\n",
              "    <tr>\n",
              "      <th>ID</th>\n",
              "      <th></th>\n",
              "      <th></th>\n",
              "      <th></th>\n",
              "    </tr>\n",
              "  </thead>\n",
              "  <tbody>\n",
              "    <tr>\n",
              "      <th>lr</th>\n",
              "      <td>Linear Regression</td>\n",
              "      <td>sklearn.linear_model._base.LinearRegression</td>\n",
              "      <td>True</td>\n",
              "    </tr>\n",
              "    <tr>\n",
              "      <th>lasso</th>\n",
              "      <td>Lasso Regression</td>\n",
              "      <td>sklearn.linear_model._coordinate_descent.Lasso</td>\n",
              "      <td>True</td>\n",
              "    </tr>\n",
              "    <tr>\n",
              "      <th>ridge</th>\n",
              "      <td>Ridge Regression</td>\n",
              "      <td>sklearn.linear_model._ridge.Ridge</td>\n",
              "      <td>True</td>\n",
              "    </tr>\n",
              "    <tr>\n",
              "      <th>en</th>\n",
              "      <td>Elastic Net</td>\n",
              "      <td>sklearn.linear_model._coordinate_descent.Elast...</td>\n",
              "      <td>True</td>\n",
              "    </tr>\n",
              "    <tr>\n",
              "      <th>lar</th>\n",
              "      <td>Least Angle Regression</td>\n",
              "      <td>sklearn.linear_model._least_angle.Lars</td>\n",
              "      <td>True</td>\n",
              "    </tr>\n",
              "    <tr>\n",
              "      <th>llar</th>\n",
              "      <td>Lasso Least Angle Regression</td>\n",
              "      <td>sklearn.linear_model._least_angle.LassoLars</td>\n",
              "      <td>True</td>\n",
              "    </tr>\n",
              "    <tr>\n",
              "      <th>omp</th>\n",
              "      <td>Orthogonal Matching Pursuit</td>\n",
              "      <td>sklearn.linear_model._omp.OrthogonalMatchingPu...</td>\n",
              "      <td>True</td>\n",
              "    </tr>\n",
              "    <tr>\n",
              "      <th>br</th>\n",
              "      <td>Bayesian Ridge</td>\n",
              "      <td>sklearn.linear_model._bayes.BayesianRidge</td>\n",
              "      <td>True</td>\n",
              "    </tr>\n",
              "    <tr>\n",
              "      <th>ard</th>\n",
              "      <td>Automatic Relevance Determination</td>\n",
              "      <td>sklearn.linear_model._bayes.ARDRegression</td>\n",
              "      <td>False</td>\n",
              "    </tr>\n",
              "    <tr>\n",
              "      <th>par</th>\n",
              "      <td>Passive Aggressive Regressor</td>\n",
              "      <td>sklearn.linear_model._passive_aggressive.Passi...</td>\n",
              "      <td>True</td>\n",
              "    </tr>\n",
              "    <tr>\n",
              "      <th>ransac</th>\n",
              "      <td>Random Sample Consensus</td>\n",
              "      <td>sklearn.linear_model._ransac.RANSACRegressor</td>\n",
              "      <td>False</td>\n",
              "    </tr>\n",
              "    <tr>\n",
              "      <th>tr</th>\n",
              "      <td>TheilSen Regressor</td>\n",
              "      <td>sklearn.linear_model._theil_sen.TheilSenRegressor</td>\n",
              "      <td>False</td>\n",
              "    </tr>\n",
              "    <tr>\n",
              "      <th>huber</th>\n",
              "      <td>Huber Regressor</td>\n",
              "      <td>sklearn.linear_model._huber.HuberRegressor</td>\n",
              "      <td>True</td>\n",
              "    </tr>\n",
              "    <tr>\n",
              "      <th>kr</th>\n",
              "      <td>Kernel Ridge</td>\n",
              "      <td>sklearn.kernel_ridge.KernelRidge</td>\n",
              "      <td>False</td>\n",
              "    </tr>\n",
              "    <tr>\n",
              "      <th>svm</th>\n",
              "      <td>Support Vector Regression</td>\n",
              "      <td>sklearn.svm._classes.SVR</td>\n",
              "      <td>False</td>\n",
              "    </tr>\n",
              "    <tr>\n",
              "      <th>knn</th>\n",
              "      <td>K Neighbors Regressor</td>\n",
              "      <td>sklearn.neighbors._regression.KNeighborsRegressor</td>\n",
              "      <td>True</td>\n",
              "    </tr>\n",
              "    <tr>\n",
              "      <th>dt</th>\n",
              "      <td>Decision Tree Regressor</td>\n",
              "      <td>sklearn.tree._classes.DecisionTreeRegressor</td>\n",
              "      <td>True</td>\n",
              "    </tr>\n",
              "    <tr>\n",
              "      <th>rf</th>\n",
              "      <td>Random Forest Regressor</td>\n",
              "      <td>sklearn.ensemble._forest.RandomForestRegressor</td>\n",
              "      <td>True</td>\n",
              "    </tr>\n",
              "    <tr>\n",
              "      <th>et</th>\n",
              "      <td>Extra Trees Regressor</td>\n",
              "      <td>sklearn.ensemble._forest.ExtraTreesRegressor</td>\n",
              "      <td>True</td>\n",
              "    </tr>\n",
              "    <tr>\n",
              "      <th>ada</th>\n",
              "      <td>AdaBoost Regressor</td>\n",
              "      <td>sklearn.ensemble._weight_boosting.AdaBoostRegr...</td>\n",
              "      <td>True</td>\n",
              "    </tr>\n",
              "    <tr>\n",
              "      <th>gbr</th>\n",
              "      <td>Gradient Boosting Regressor</td>\n",
              "      <td>sklearn.ensemble._gb.GradientBoostingRegressor</td>\n",
              "      <td>True</td>\n",
              "    </tr>\n",
              "    <tr>\n",
              "      <th>mlp</th>\n",
              "      <td>MLP Regressor</td>\n",
              "      <td>pycaret.internal.tunable.TunableMLPRegressor</td>\n",
              "      <td>False</td>\n",
              "    </tr>\n",
              "    <tr>\n",
              "      <th>xgboost</th>\n",
              "      <td>Extreme Gradient Boosting</td>\n",
              "      <td>xgboost.sklearn.XGBRegressor</td>\n",
              "      <td>True</td>\n",
              "    </tr>\n",
              "    <tr>\n",
              "      <th>lightgbm</th>\n",
              "      <td>Light Gradient Boosting Machine</td>\n",
              "      <td>lightgbm.sklearn.LGBMRegressor</td>\n",
              "      <td>True</td>\n",
              "    </tr>\n",
              "    <tr>\n",
              "      <th>catboost</th>\n",
              "      <td>CatBoost Regressor</td>\n",
              "      <td>catboost.core.CatBoostRegressor</td>\n",
              "      <td>True</td>\n",
              "    </tr>\n",
              "  </tbody>\n",
              "</table>\n",
              "</div>"
            ],
            "text/plain": [
              "                                       Name  ...  Turbo\n",
              "ID                                           ...       \n",
              "lr                        Linear Regression  ...   True\n",
              "lasso                      Lasso Regression  ...   True\n",
              "ridge                      Ridge Regression  ...   True\n",
              "en                              Elastic Net  ...   True\n",
              "lar                  Least Angle Regression  ...   True\n",
              "llar           Lasso Least Angle Regression  ...   True\n",
              "omp             Orthogonal Matching Pursuit  ...   True\n",
              "br                           Bayesian Ridge  ...   True\n",
              "ard       Automatic Relevance Determination  ...  False\n",
              "par            Passive Aggressive Regressor  ...   True\n",
              "ransac              Random Sample Consensus  ...  False\n",
              "tr                       TheilSen Regressor  ...  False\n",
              "huber                       Huber Regressor  ...   True\n",
              "kr                             Kernel Ridge  ...  False\n",
              "svm               Support Vector Regression  ...  False\n",
              "knn                   K Neighbors Regressor  ...   True\n",
              "dt                  Decision Tree Regressor  ...   True\n",
              "rf                  Random Forest Regressor  ...   True\n",
              "et                    Extra Trees Regressor  ...   True\n",
              "ada                      AdaBoost Regressor  ...   True\n",
              "gbr             Gradient Boosting Regressor  ...   True\n",
              "mlp                           MLP Regressor  ...  False\n",
              "xgboost           Extreme Gradient Boosting  ...   True\n",
              "lightgbm    Light Gradient Boosting Machine  ...   True\n",
              "catboost                 CatBoost Regressor  ...   True\n",
              "\n",
              "[25 rows x 3 columns]"
            ]
          },
          "metadata": {
            "tags": []
          },
          "execution_count": 0
        }
      ]
    },
    {
      "cell_type": "code",
      "metadata": {
        "id": "ahqbop60QdTg"
      },
      "source": [
        "# Model 1\n",
        "rf = create_model('rf')"
      ],
      "execution_count": null,
      "outputs": []
    },
    {
      "cell_type": "code",
      "metadata": {
        "id": "f6ov_Rz7QdTg",
        "outputId": "a32f5f03-c144-4912-f3bb-a7a4a9051585"
      },
      "source": [
        "print(rf)"
      ],
      "execution_count": null,
      "outputs": [
        {
          "output_type": "stream",
          "text": [
            "RandomForestRegressor(bootstrap=True, ccp_alpha=0.0, criterion='mse',\n",
            "                      max_depth=None, max_features='auto', max_leaf_nodes=None,\n",
            "                      max_samples=None, min_impurity_decrease=0.0,\n",
            "                      min_impurity_split=None, min_samples_leaf=1,\n",
            "                      min_samples_split=2, min_weight_fraction_leaf=0.0,\n",
            "                      n_estimators=100, n_jobs=-1, oob_score=False,\n",
            "                      random_state=2261, verbose=0, warm_start=False)\n"
          ],
          "name": "stdout"
        }
      ]
    },
    {
      "cell_type": "code",
      "metadata": {
        "id": "ZwElwhq7QdTh",
        "outputId": "38441358-d628-4fbb-9f66-e59f7d4e5a25"
      },
      "source": [
        "# Model 2\n",
        "catboost = create_model('catboost')"
      ],
      "execution_count": null,
      "outputs": [
        {
          "output_type": "display_data",
          "data": {
            "text/html": [
              "<style  type=\"text/css\" >\n",
              "#T_431979f1_6895_11eb_9e7e_7cb0c2c54e18row10_col0,#T_431979f1_6895_11eb_9e7e_7cb0c2c54e18row10_col1,#T_431979f1_6895_11eb_9e7e_7cb0c2c54e18row10_col2,#T_431979f1_6895_11eb_9e7e_7cb0c2c54e18row10_col3,#T_431979f1_6895_11eb_9e7e_7cb0c2c54e18row10_col4,#T_431979f1_6895_11eb_9e7e_7cb0c2c54e18row10_col5{\n",
              "            background:  yellow;\n",
              "        }</style><table id=\"T_431979f1_6895_11eb_9e7e_7cb0c2c54e18\" ><thead>    <tr>        <th class=\"blank level0\" ></th>        <th class=\"col_heading level0 col0\" >MAE</th>        <th class=\"col_heading level0 col1\" >MSE</th>        <th class=\"col_heading level0 col2\" >RMSE</th>        <th class=\"col_heading level0 col3\" >R2</th>        <th class=\"col_heading level0 col4\" >RMSLE</th>        <th class=\"col_heading level0 col5\" >MAPE</th>    </tr></thead><tbody>\n",
              "                <tr>\n",
              "                        <th id=\"T_431979f1_6895_11eb_9e7e_7cb0c2c54e18level0_row0\" class=\"row_heading level0 row0\" >0</th>\n",
              "                        <td id=\"T_431979f1_6895_11eb_9e7e_7cb0c2c54e18row0_col0\" class=\"data row0 col0\" >0.1163</td>\n",
              "                        <td id=\"T_431979f1_6895_11eb_9e7e_7cb0c2c54e18row0_col1\" class=\"data row0 col1\" >0.0265</td>\n",
              "                        <td id=\"T_431979f1_6895_11eb_9e7e_7cb0c2c54e18row0_col2\" class=\"data row0 col2\" >0.1627</td>\n",
              "                        <td id=\"T_431979f1_6895_11eb_9e7e_7cb0c2c54e18row0_col3\" class=\"data row0 col3\" >0.8121</td>\n",
              "                        <td id=\"T_431979f1_6895_11eb_9e7e_7cb0c2c54e18row0_col4\" class=\"data row0 col4\" >0.0657</td>\n",
              "                        <td id=\"T_431979f1_6895_11eb_9e7e_7cb0c2c54e18row0_col5\" class=\"data row0 col5\" >0.0857</td>\n",
              "            </tr>\n",
              "            <tr>\n",
              "                        <th id=\"T_431979f1_6895_11eb_9e7e_7cb0c2c54e18level0_row1\" class=\"row_heading level0 row1\" >1</th>\n",
              "                        <td id=\"T_431979f1_6895_11eb_9e7e_7cb0c2c54e18row1_col0\" class=\"data row1 col0\" >0.1155</td>\n",
              "                        <td id=\"T_431979f1_6895_11eb_9e7e_7cb0c2c54e18row1_col1\" class=\"data row1 col1\" >0.0262</td>\n",
              "                        <td id=\"T_431979f1_6895_11eb_9e7e_7cb0c2c54e18row1_col2\" class=\"data row1 col2\" >0.1618</td>\n",
              "                        <td id=\"T_431979f1_6895_11eb_9e7e_7cb0c2c54e18row1_col3\" class=\"data row1 col3\" >0.8138</td>\n",
              "                        <td id=\"T_431979f1_6895_11eb_9e7e_7cb0c2c54e18row1_col4\" class=\"data row1 col4\" >0.0654</td>\n",
              "                        <td id=\"T_431979f1_6895_11eb_9e7e_7cb0c2c54e18row1_col5\" class=\"data row1 col5\" >0.0854</td>\n",
              "            </tr>\n",
              "            <tr>\n",
              "                        <th id=\"T_431979f1_6895_11eb_9e7e_7cb0c2c54e18level0_row2\" class=\"row_heading level0 row2\" >2</th>\n",
              "                        <td id=\"T_431979f1_6895_11eb_9e7e_7cb0c2c54e18row2_col0\" class=\"data row2 col0\" >0.1131</td>\n",
              "                        <td id=\"T_431979f1_6895_11eb_9e7e_7cb0c2c54e18row2_col1\" class=\"data row2 col1\" >0.0254</td>\n",
              "                        <td id=\"T_431979f1_6895_11eb_9e7e_7cb0c2c54e18row2_col2\" class=\"data row2 col2\" >0.1592</td>\n",
              "                        <td id=\"T_431979f1_6895_11eb_9e7e_7cb0c2c54e18row2_col3\" class=\"data row2 col3\" >0.8277</td>\n",
              "                        <td id=\"T_431979f1_6895_11eb_9e7e_7cb0c2c54e18row2_col4\" class=\"data row2 col4\" >0.0643</td>\n",
              "                        <td id=\"T_431979f1_6895_11eb_9e7e_7cb0c2c54e18row2_col5\" class=\"data row2 col5\" >0.0844</td>\n",
              "            </tr>\n",
              "            <tr>\n",
              "                        <th id=\"T_431979f1_6895_11eb_9e7e_7cb0c2c54e18level0_row3\" class=\"row_heading level0 row3\" >3</th>\n",
              "                        <td id=\"T_431979f1_6895_11eb_9e7e_7cb0c2c54e18row3_col0\" class=\"data row3 col0\" >0.1102</td>\n",
              "                        <td id=\"T_431979f1_6895_11eb_9e7e_7cb0c2c54e18row3_col1\" class=\"data row3 col1\" >0.0226</td>\n",
              "                        <td id=\"T_431979f1_6895_11eb_9e7e_7cb0c2c54e18row3_col2\" class=\"data row3 col2\" >0.1505</td>\n",
              "                        <td id=\"T_431979f1_6895_11eb_9e7e_7cb0c2c54e18row3_col3\" class=\"data row3 col3\" >0.8423</td>\n",
              "                        <td id=\"T_431979f1_6895_11eb_9e7e_7cb0c2c54e18row3_col4\" class=\"data row3 col4\" >0.0603</td>\n",
              "                        <td id=\"T_431979f1_6895_11eb_9e7e_7cb0c2c54e18row3_col5\" class=\"data row3 col5\" >0.0803</td>\n",
              "            </tr>\n",
              "            <tr>\n",
              "                        <th id=\"T_431979f1_6895_11eb_9e7e_7cb0c2c54e18level0_row4\" class=\"row_heading level0 row4\" >4</th>\n",
              "                        <td id=\"T_431979f1_6895_11eb_9e7e_7cb0c2c54e18row4_col0\" class=\"data row4 col0\" >0.1159</td>\n",
              "                        <td id=\"T_431979f1_6895_11eb_9e7e_7cb0c2c54e18row4_col1\" class=\"data row4 col1\" >0.0261</td>\n",
              "                        <td id=\"T_431979f1_6895_11eb_9e7e_7cb0c2c54e18row4_col2\" class=\"data row4 col2\" >0.1614</td>\n",
              "                        <td id=\"T_431979f1_6895_11eb_9e7e_7cb0c2c54e18row4_col3\" class=\"data row4 col3\" >0.8232</td>\n",
              "                        <td id=\"T_431979f1_6895_11eb_9e7e_7cb0c2c54e18row4_col4\" class=\"data row4 col4\" >0.0651</td>\n",
              "                        <td id=\"T_431979f1_6895_11eb_9e7e_7cb0c2c54e18row4_col5\" class=\"data row4 col5\" >0.0855</td>\n",
              "            </tr>\n",
              "            <tr>\n",
              "                        <th id=\"T_431979f1_6895_11eb_9e7e_7cb0c2c54e18level0_row5\" class=\"row_heading level0 row5\" >5</th>\n",
              "                        <td id=\"T_431979f1_6895_11eb_9e7e_7cb0c2c54e18row5_col0\" class=\"data row5 col0\" >0.1184</td>\n",
              "                        <td id=\"T_431979f1_6895_11eb_9e7e_7cb0c2c54e18row5_col1\" class=\"data row5 col1\" >0.0273</td>\n",
              "                        <td id=\"T_431979f1_6895_11eb_9e7e_7cb0c2c54e18row5_col2\" class=\"data row5 col2\" >0.1651</td>\n",
              "                        <td id=\"T_431979f1_6895_11eb_9e7e_7cb0c2c54e18row5_col3\" class=\"data row5 col3\" >0.8084</td>\n",
              "                        <td id=\"T_431979f1_6895_11eb_9e7e_7cb0c2c54e18row5_col4\" class=\"data row5 col4\" >0.0671</td>\n",
              "                        <td id=\"T_431979f1_6895_11eb_9e7e_7cb0c2c54e18row5_col5\" class=\"data row5 col5\" >0.0884</td>\n",
              "            </tr>\n",
              "            <tr>\n",
              "                        <th id=\"T_431979f1_6895_11eb_9e7e_7cb0c2c54e18level0_row6\" class=\"row_heading level0 row6\" >6</th>\n",
              "                        <td id=\"T_431979f1_6895_11eb_9e7e_7cb0c2c54e18row6_col0\" class=\"data row6 col0\" >0.1152</td>\n",
              "                        <td id=\"T_431979f1_6895_11eb_9e7e_7cb0c2c54e18row6_col1\" class=\"data row6 col1\" >0.0250</td>\n",
              "                        <td id=\"T_431979f1_6895_11eb_9e7e_7cb0c2c54e18row6_col2\" class=\"data row6 col2\" >0.1582</td>\n",
              "                        <td id=\"T_431979f1_6895_11eb_9e7e_7cb0c2c54e18row6_col3\" class=\"data row6 col3\" >0.8223</td>\n",
              "                        <td id=\"T_431979f1_6895_11eb_9e7e_7cb0c2c54e18row6_col4\" class=\"data row6 col4\" >0.0636</td>\n",
              "                        <td id=\"T_431979f1_6895_11eb_9e7e_7cb0c2c54e18row6_col5\" class=\"data row6 col5\" >0.0843</td>\n",
              "            </tr>\n",
              "            <tr>\n",
              "                        <th id=\"T_431979f1_6895_11eb_9e7e_7cb0c2c54e18level0_row7\" class=\"row_heading level0 row7\" >7</th>\n",
              "                        <td id=\"T_431979f1_6895_11eb_9e7e_7cb0c2c54e18row7_col0\" class=\"data row7 col0\" >0.1154</td>\n",
              "                        <td id=\"T_431979f1_6895_11eb_9e7e_7cb0c2c54e18row7_col1\" class=\"data row7 col1\" >0.0268</td>\n",
              "                        <td id=\"T_431979f1_6895_11eb_9e7e_7cb0c2c54e18row7_col2\" class=\"data row7 col2\" >0.1636</td>\n",
              "                        <td id=\"T_431979f1_6895_11eb_9e7e_7cb0c2c54e18row7_col3\" class=\"data row7 col3\" >0.8072</td>\n",
              "                        <td id=\"T_431979f1_6895_11eb_9e7e_7cb0c2c54e18row7_col4\" class=\"data row7 col4\" >0.0660</td>\n",
              "                        <td id=\"T_431979f1_6895_11eb_9e7e_7cb0c2c54e18row7_col5\" class=\"data row7 col5\" >0.0851</td>\n",
              "            </tr>\n",
              "            <tr>\n",
              "                        <th id=\"T_431979f1_6895_11eb_9e7e_7cb0c2c54e18level0_row8\" class=\"row_heading level0 row8\" >8</th>\n",
              "                        <td id=\"T_431979f1_6895_11eb_9e7e_7cb0c2c54e18row8_col0\" class=\"data row8 col0\" >0.1183</td>\n",
              "                        <td id=\"T_431979f1_6895_11eb_9e7e_7cb0c2c54e18row8_col1\" class=\"data row8 col1\" >0.0272</td>\n",
              "                        <td id=\"T_431979f1_6895_11eb_9e7e_7cb0c2c54e18row8_col2\" class=\"data row8 col2\" >0.1649</td>\n",
              "                        <td id=\"T_431979f1_6895_11eb_9e7e_7cb0c2c54e18row8_col3\" class=\"data row8 col3\" >0.8052</td>\n",
              "                        <td id=\"T_431979f1_6895_11eb_9e7e_7cb0c2c54e18row8_col4\" class=\"data row8 col4\" >0.0666</td>\n",
              "                        <td id=\"T_431979f1_6895_11eb_9e7e_7cb0c2c54e18row8_col5\" class=\"data row8 col5\" >0.0872</td>\n",
              "            </tr>\n",
              "            <tr>\n",
              "                        <th id=\"T_431979f1_6895_11eb_9e7e_7cb0c2c54e18level0_row9\" class=\"row_heading level0 row9\" >9</th>\n",
              "                        <td id=\"T_431979f1_6895_11eb_9e7e_7cb0c2c54e18row9_col0\" class=\"data row9 col0\" >0.1176</td>\n",
              "                        <td id=\"T_431979f1_6895_11eb_9e7e_7cb0c2c54e18row9_col1\" class=\"data row9 col1\" >0.0267</td>\n",
              "                        <td id=\"T_431979f1_6895_11eb_9e7e_7cb0c2c54e18row9_col2\" class=\"data row9 col2\" >0.1633</td>\n",
              "                        <td id=\"T_431979f1_6895_11eb_9e7e_7cb0c2c54e18row9_col3\" class=\"data row9 col3\" >0.8151</td>\n",
              "                        <td id=\"T_431979f1_6895_11eb_9e7e_7cb0c2c54e18row9_col4\" class=\"data row9 col4\" >0.0653</td>\n",
              "                        <td id=\"T_431979f1_6895_11eb_9e7e_7cb0c2c54e18row9_col5\" class=\"data row9 col5\" >0.0853</td>\n",
              "            </tr>\n",
              "            <tr>\n",
              "                        <th id=\"T_431979f1_6895_11eb_9e7e_7cb0c2c54e18level0_row10\" class=\"row_heading level0 row10\" >Mean</th>\n",
              "                        <td id=\"T_431979f1_6895_11eb_9e7e_7cb0c2c54e18row10_col0\" class=\"data row10 col0\" >0.1156</td>\n",
              "                        <td id=\"T_431979f1_6895_11eb_9e7e_7cb0c2c54e18row10_col1\" class=\"data row10 col1\" >0.0260</td>\n",
              "                        <td id=\"T_431979f1_6895_11eb_9e7e_7cb0c2c54e18row10_col2\" class=\"data row10 col2\" >0.1611</td>\n",
              "                        <td id=\"T_431979f1_6895_11eb_9e7e_7cb0c2c54e18row10_col3\" class=\"data row10 col3\" >0.8177</td>\n",
              "                        <td id=\"T_431979f1_6895_11eb_9e7e_7cb0c2c54e18row10_col4\" class=\"data row10 col4\" >0.0649</td>\n",
              "                        <td id=\"T_431979f1_6895_11eb_9e7e_7cb0c2c54e18row10_col5\" class=\"data row10 col5\" >0.0851</td>\n",
              "            </tr>\n",
              "            <tr>\n",
              "                        <th id=\"T_431979f1_6895_11eb_9e7e_7cb0c2c54e18level0_row11\" class=\"row_heading level0 row11\" >SD</th>\n",
              "                        <td id=\"T_431979f1_6895_11eb_9e7e_7cb0c2c54e18row11_col0\" class=\"data row11 col0\" >0.0024</td>\n",
              "                        <td id=\"T_431979f1_6895_11eb_9e7e_7cb0c2c54e18row11_col1\" class=\"data row11 col1\" >0.0013</td>\n",
              "                        <td id=\"T_431979f1_6895_11eb_9e7e_7cb0c2c54e18row11_col2\" class=\"data row11 col2\" >0.0041</td>\n",
              "                        <td id=\"T_431979f1_6895_11eb_9e7e_7cb0c2c54e18row11_col3\" class=\"data row11 col3\" >0.0108</td>\n",
              "                        <td id=\"T_431979f1_6895_11eb_9e7e_7cb0c2c54e18row11_col4\" class=\"data row11 col4\" >0.0018</td>\n",
              "                        <td id=\"T_431979f1_6895_11eb_9e7e_7cb0c2c54e18row11_col5\" class=\"data row11 col5\" >0.0020</td>\n",
              "            </tr>\n",
              "    </tbody></table>"
            ],
            "text/plain": [
              "<pandas.io.formats.style.Styler at 0x19ce8e07640>"
            ]
          },
          "metadata": {
            "tags": []
          }
        }
      ]
    },
    {
      "cell_type": "code",
      "metadata": {
        "id": "r5_wQNVfQdTh",
        "outputId": "dae26c71-10e6-40ee-a3f9-aeb5152ddef1"
      },
      "source": [
        "print(catboost)"
      ],
      "execution_count": null,
      "outputs": [
        {
          "output_type": "stream",
          "text": [
            "<catboost.core.CatBoostRegressor object at 0x0000019CE8E9C7F0>\n"
          ],
          "name": "stdout"
        }
      ]
    },
    {
      "cell_type": "code",
      "metadata": {
        "id": "QkpaLSL5QdTh",
        "scrolled": true,
        "outputId": "865a8f47-f1b5-4f09-8a55-b06a15100514"
      },
      "source": [
        "# Model 3\n",
        "xgboost = create_model('xgboost')"
      ],
      "execution_count": null,
      "outputs": [
        {
          "output_type": "display_data",
          "data": {
            "text/html": [
              "<style  type=\"text/css\" >\n",
              "#T_5d087bd9_6896_11eb_96e7_7cb0c2c54e18row10_col0,#T_5d087bd9_6896_11eb_96e7_7cb0c2c54e18row10_col1,#T_5d087bd9_6896_11eb_96e7_7cb0c2c54e18row10_col2,#T_5d087bd9_6896_11eb_96e7_7cb0c2c54e18row10_col3,#T_5d087bd9_6896_11eb_96e7_7cb0c2c54e18row10_col4,#T_5d087bd9_6896_11eb_96e7_7cb0c2c54e18row10_col5{\n",
              "            background:  yellow;\n",
              "        }</style><table id=\"T_5d087bd9_6896_11eb_96e7_7cb0c2c54e18\" ><thead>    <tr>        <th class=\"blank level0\" ></th>        <th class=\"col_heading level0 col0\" >MAE</th>        <th class=\"col_heading level0 col1\" >MSE</th>        <th class=\"col_heading level0 col2\" >RMSE</th>        <th class=\"col_heading level0 col3\" >R2</th>        <th class=\"col_heading level0 col4\" >RMSLE</th>        <th class=\"col_heading level0 col5\" >MAPE</th>    </tr></thead><tbody>\n",
              "                <tr>\n",
              "                        <th id=\"T_5d087bd9_6896_11eb_96e7_7cb0c2c54e18level0_row0\" class=\"row_heading level0 row0\" >0</th>\n",
              "                        <td id=\"T_5d087bd9_6896_11eb_96e7_7cb0c2c54e18row0_col0\" class=\"data row0 col0\" >0.1150</td>\n",
              "                        <td id=\"T_5d087bd9_6896_11eb_96e7_7cb0c2c54e18row0_col1\" class=\"data row0 col1\" >0.0269</td>\n",
              "                        <td id=\"T_5d087bd9_6896_11eb_96e7_7cb0c2c54e18row0_col2\" class=\"data row0 col2\" >0.1641</td>\n",
              "                        <td id=\"T_5d087bd9_6896_11eb_96e7_7cb0c2c54e18row0_col3\" class=\"data row0 col3\" >0.8089</td>\n",
              "                        <td id=\"T_5d087bd9_6896_11eb_96e7_7cb0c2c54e18row0_col4\" class=\"data row0 col4\" >0.0660</td>\n",
              "                        <td id=\"T_5d087bd9_6896_11eb_96e7_7cb0c2c54e18row0_col5\" class=\"data row0 col5\" >0.0848</td>\n",
              "            </tr>\n",
              "            <tr>\n",
              "                        <th id=\"T_5d087bd9_6896_11eb_96e7_7cb0c2c54e18level0_row1\" class=\"row_heading level0 row1\" >1</th>\n",
              "                        <td id=\"T_5d087bd9_6896_11eb_96e7_7cb0c2c54e18row1_col0\" class=\"data row1 col0\" >0.1131</td>\n",
              "                        <td id=\"T_5d087bd9_6896_11eb_96e7_7cb0c2c54e18row1_col1\" class=\"data row1 col1\" >0.0256</td>\n",
              "                        <td id=\"T_5d087bd9_6896_11eb_96e7_7cb0c2c54e18row1_col2\" class=\"data row1 col2\" >0.1598</td>\n",
              "                        <td id=\"T_5d087bd9_6896_11eb_96e7_7cb0c2c54e18row1_col3\" class=\"data row1 col3\" >0.8183</td>\n",
              "                        <td id=\"T_5d087bd9_6896_11eb_96e7_7cb0c2c54e18row1_col4\" class=\"data row1 col4\" >0.0645</td>\n",
              "                        <td id=\"T_5d087bd9_6896_11eb_96e7_7cb0c2c54e18row1_col5\" class=\"data row1 col5\" >0.0834</td>\n",
              "            </tr>\n",
              "            <tr>\n",
              "                        <th id=\"T_5d087bd9_6896_11eb_96e7_7cb0c2c54e18level0_row2\" class=\"row_heading level0 row2\" >2</th>\n",
              "                        <td id=\"T_5d087bd9_6896_11eb_96e7_7cb0c2c54e18row2_col0\" class=\"data row2 col0\" >0.1127</td>\n",
              "                        <td id=\"T_5d087bd9_6896_11eb_96e7_7cb0c2c54e18row2_col1\" class=\"data row2 col1\" >0.0260</td>\n",
              "                        <td id=\"T_5d087bd9_6896_11eb_96e7_7cb0c2c54e18row2_col2\" class=\"data row2 col2\" >0.1614</td>\n",
              "                        <td id=\"T_5d087bd9_6896_11eb_96e7_7cb0c2c54e18row2_col3\" class=\"data row2 col3\" >0.8230</td>\n",
              "                        <td id=\"T_5d087bd9_6896_11eb_96e7_7cb0c2c54e18row2_col4\" class=\"data row2 col4\" >0.0651</td>\n",
              "                        <td id=\"T_5d087bd9_6896_11eb_96e7_7cb0c2c54e18row2_col5\" class=\"data row2 col5\" >0.0840</td>\n",
              "            </tr>\n",
              "            <tr>\n",
              "                        <th id=\"T_5d087bd9_6896_11eb_96e7_7cb0c2c54e18level0_row3\" class=\"row_heading level0 row3\" >3</th>\n",
              "                        <td id=\"T_5d087bd9_6896_11eb_96e7_7cb0c2c54e18row3_col0\" class=\"data row3 col0\" >0.1117</td>\n",
              "                        <td id=\"T_5d087bd9_6896_11eb_96e7_7cb0c2c54e18row3_col1\" class=\"data row3 col1\" >0.0232</td>\n",
              "                        <td id=\"T_5d087bd9_6896_11eb_96e7_7cb0c2c54e18row3_col2\" class=\"data row3 col2\" >0.1522</td>\n",
              "                        <td id=\"T_5d087bd9_6896_11eb_96e7_7cb0c2c54e18row3_col3\" class=\"data row3 col3\" >0.8387</td>\n",
              "                        <td id=\"T_5d087bd9_6896_11eb_96e7_7cb0c2c54e18row3_col4\" class=\"data row3 col4\" >0.0612</td>\n",
              "                        <td id=\"T_5d087bd9_6896_11eb_96e7_7cb0c2c54e18row3_col5\" class=\"data row3 col5\" >0.0815</td>\n",
              "            </tr>\n",
              "            <tr>\n",
              "                        <th id=\"T_5d087bd9_6896_11eb_96e7_7cb0c2c54e18level0_row4\" class=\"row_heading level0 row4\" >4</th>\n",
              "                        <td id=\"T_5d087bd9_6896_11eb_96e7_7cb0c2c54e18row4_col0\" class=\"data row4 col0\" >0.1157</td>\n",
              "                        <td id=\"T_5d087bd9_6896_11eb_96e7_7cb0c2c54e18row4_col1\" class=\"data row4 col1\" >0.0259</td>\n",
              "                        <td id=\"T_5d087bd9_6896_11eb_96e7_7cb0c2c54e18row4_col2\" class=\"data row4 col2\" >0.1608</td>\n",
              "                        <td id=\"T_5d087bd9_6896_11eb_96e7_7cb0c2c54e18row4_col3\" class=\"data row4 col3\" >0.8244</td>\n",
              "                        <td id=\"T_5d087bd9_6896_11eb_96e7_7cb0c2c54e18row4_col4\" class=\"data row4 col4\" >0.0654</td>\n",
              "                        <td id=\"T_5d087bd9_6896_11eb_96e7_7cb0c2c54e18row4_col5\" class=\"data row4 col5\" >0.0853</td>\n",
              "            </tr>\n",
              "            <tr>\n",
              "                        <th id=\"T_5d087bd9_6896_11eb_96e7_7cb0c2c54e18level0_row5\" class=\"row_heading level0 row5\" >5</th>\n",
              "                        <td id=\"T_5d087bd9_6896_11eb_96e7_7cb0c2c54e18row5_col0\" class=\"data row5 col0\" >0.1176</td>\n",
              "                        <td id=\"T_5d087bd9_6896_11eb_96e7_7cb0c2c54e18row5_col1\" class=\"data row5 col1\" >0.0276</td>\n",
              "                        <td id=\"T_5d087bd9_6896_11eb_96e7_7cb0c2c54e18row5_col2\" class=\"data row5 col2\" >0.1662</td>\n",
              "                        <td id=\"T_5d087bd9_6896_11eb_96e7_7cb0c2c54e18row5_col3\" class=\"data row5 col3\" >0.8058</td>\n",
              "                        <td id=\"T_5d087bd9_6896_11eb_96e7_7cb0c2c54e18row5_col4\" class=\"data row5 col4\" >0.0668</td>\n",
              "                        <td id=\"T_5d087bd9_6896_11eb_96e7_7cb0c2c54e18row5_col5\" class=\"data row5 col5\" >0.0871</td>\n",
              "            </tr>\n",
              "            <tr>\n",
              "                        <th id=\"T_5d087bd9_6896_11eb_96e7_7cb0c2c54e18level0_row6\" class=\"row_heading level0 row6\" >6</th>\n",
              "                        <td id=\"T_5d087bd9_6896_11eb_96e7_7cb0c2c54e18row6_col0\" class=\"data row6 col0\" >0.1144</td>\n",
              "                        <td id=\"T_5d087bd9_6896_11eb_96e7_7cb0c2c54e18row6_col1\" class=\"data row6 col1\" >0.0256</td>\n",
              "                        <td id=\"T_5d087bd9_6896_11eb_96e7_7cb0c2c54e18row6_col2\" class=\"data row6 col2\" >0.1601</td>\n",
              "                        <td id=\"T_5d087bd9_6896_11eb_96e7_7cb0c2c54e18row6_col3\" class=\"data row6 col3\" >0.8181</td>\n",
              "                        <td id=\"T_5d087bd9_6896_11eb_96e7_7cb0c2c54e18row6_col4\" class=\"data row6 col4\" >0.0642</td>\n",
              "                        <td id=\"T_5d087bd9_6896_11eb_96e7_7cb0c2c54e18row6_col5\" class=\"data row6 col5\" >0.0835</td>\n",
              "            </tr>\n",
              "            <tr>\n",
              "                        <th id=\"T_5d087bd9_6896_11eb_96e7_7cb0c2c54e18level0_row7\" class=\"row_heading level0 row7\" >7</th>\n",
              "                        <td id=\"T_5d087bd9_6896_11eb_96e7_7cb0c2c54e18row7_col0\" class=\"data row7 col0\" >0.1150</td>\n",
              "                        <td id=\"T_5d087bd9_6896_11eb_96e7_7cb0c2c54e18row7_col1\" class=\"data row7 col1\" >0.0269</td>\n",
              "                        <td id=\"T_5d087bd9_6896_11eb_96e7_7cb0c2c54e18row7_col2\" class=\"data row7 col2\" >0.1641</td>\n",
              "                        <td id=\"T_5d087bd9_6896_11eb_96e7_7cb0c2c54e18row7_col3\" class=\"data row7 col3\" >0.8060</td>\n",
              "                        <td id=\"T_5d087bd9_6896_11eb_96e7_7cb0c2c54e18row7_col4\" class=\"data row7 col4\" >0.0664</td>\n",
              "                        <td id=\"T_5d087bd9_6896_11eb_96e7_7cb0c2c54e18row7_col5\" class=\"data row7 col5\" >0.0851</td>\n",
              "            </tr>\n",
              "            <tr>\n",
              "                        <th id=\"T_5d087bd9_6896_11eb_96e7_7cb0c2c54e18level0_row8\" class=\"row_heading level0 row8\" >8</th>\n",
              "                        <td id=\"T_5d087bd9_6896_11eb_96e7_7cb0c2c54e18row8_col0\" class=\"data row8 col0\" >0.1156</td>\n",
              "                        <td id=\"T_5d087bd9_6896_11eb_96e7_7cb0c2c54e18row8_col1\" class=\"data row8 col1\" >0.0265</td>\n",
              "                        <td id=\"T_5d087bd9_6896_11eb_96e7_7cb0c2c54e18row8_col2\" class=\"data row8 col2\" >0.1629</td>\n",
              "                        <td id=\"T_5d087bd9_6896_11eb_96e7_7cb0c2c54e18row8_col3\" class=\"data row8 col3\" >0.8099</td>\n",
              "                        <td id=\"T_5d087bd9_6896_11eb_96e7_7cb0c2c54e18row8_col4\" class=\"data row8 col4\" >0.0654</td>\n",
              "                        <td id=\"T_5d087bd9_6896_11eb_96e7_7cb0c2c54e18row8_col5\" class=\"data row8 col5\" >0.0845</td>\n",
              "            </tr>\n",
              "            <tr>\n",
              "                        <th id=\"T_5d087bd9_6896_11eb_96e7_7cb0c2c54e18level0_row9\" class=\"row_heading level0 row9\" >9</th>\n",
              "                        <td id=\"T_5d087bd9_6896_11eb_96e7_7cb0c2c54e18row9_col0\" class=\"data row9 col0\" >0.1170</td>\n",
              "                        <td id=\"T_5d087bd9_6896_11eb_96e7_7cb0c2c54e18row9_col1\" class=\"data row9 col1\" >0.0266</td>\n",
              "                        <td id=\"T_5d087bd9_6896_11eb_96e7_7cb0c2c54e18row9_col2\" class=\"data row9 col2\" >0.1632</td>\n",
              "                        <td id=\"T_5d087bd9_6896_11eb_96e7_7cb0c2c54e18row9_col3\" class=\"data row9 col3\" >0.8153</td>\n",
              "                        <td id=\"T_5d087bd9_6896_11eb_96e7_7cb0c2c54e18row9_col4\" class=\"data row9 col4\" >0.0649</td>\n",
              "                        <td id=\"T_5d087bd9_6896_11eb_96e7_7cb0c2c54e18row9_col5\" class=\"data row9 col5\" >0.0843</td>\n",
              "            </tr>\n",
              "            <tr>\n",
              "                        <th id=\"T_5d087bd9_6896_11eb_96e7_7cb0c2c54e18level0_row10\" class=\"row_heading level0 row10\" >Mean</th>\n",
              "                        <td id=\"T_5d087bd9_6896_11eb_96e7_7cb0c2c54e18row10_col0\" class=\"data row10 col0\" >0.1148</td>\n",
              "                        <td id=\"T_5d087bd9_6896_11eb_96e7_7cb0c2c54e18row10_col1\" class=\"data row10 col1\" >0.0261</td>\n",
              "                        <td id=\"T_5d087bd9_6896_11eb_96e7_7cb0c2c54e18row10_col2\" class=\"data row10 col2\" >0.1615</td>\n",
              "                        <td id=\"T_5d087bd9_6896_11eb_96e7_7cb0c2c54e18row10_col3\" class=\"data row10 col3\" >0.8168</td>\n",
              "                        <td id=\"T_5d087bd9_6896_11eb_96e7_7cb0c2c54e18row10_col4\" class=\"data row10 col4\" >0.0650</td>\n",
              "                        <td id=\"T_5d087bd9_6896_11eb_96e7_7cb0c2c54e18row10_col5\" class=\"data row10 col5\" >0.0844</td>\n",
              "            </tr>\n",
              "            <tr>\n",
              "                        <th id=\"T_5d087bd9_6896_11eb_96e7_7cb0c2c54e18level0_row11\" class=\"row_heading level0 row11\" >SD</th>\n",
              "                        <td id=\"T_5d087bd9_6896_11eb_96e7_7cb0c2c54e18row11_col0\" class=\"data row11 col0\" >0.0018</td>\n",
              "                        <td id=\"T_5d087bd9_6896_11eb_96e7_7cb0c2c54e18row11_col1\" class=\"data row11 col1\" >0.0012</td>\n",
              "                        <td id=\"T_5d087bd9_6896_11eb_96e7_7cb0c2c54e18row11_col2\" class=\"data row11 col2\" >0.0036</td>\n",
              "                        <td id=\"T_5d087bd9_6896_11eb_96e7_7cb0c2c54e18row11_col3\" class=\"data row11 col3\" >0.0097</td>\n",
              "                        <td id=\"T_5d087bd9_6896_11eb_96e7_7cb0c2c54e18row11_col4\" class=\"data row11 col4\" >0.0015</td>\n",
              "                        <td id=\"T_5d087bd9_6896_11eb_96e7_7cb0c2c54e18row11_col5\" class=\"data row11 col5\" >0.0014</td>\n",
              "            </tr>\n",
              "    </tbody></table>"
            ],
            "text/plain": [
              "<pandas.io.formats.style.Styler at 0x19ce8e07250>"
            ]
          },
          "metadata": {
            "tags": []
          }
        }
      ]
    },
    {
      "cell_type": "code",
      "metadata": {
        "id": "BKkESvJUQdTi",
        "outputId": "c6fb20d1-d856-4df9-ac4f-09875d23057f"
      },
      "source": [
        "print(xgboost)"
      ],
      "execution_count": null,
      "outputs": [
        {
          "output_type": "stream",
          "text": [
            "XGBRegressor(base_score=0.5, booster='gbtree', colsample_bylevel=1,\n",
            "             colsample_bynode=1, colsample_bytree=1, gamma=0, gpu_id=-1,\n",
            "             importance_type='gain', interaction_constraints='',\n",
            "             learning_rate=0.300000012, max_delta_step=0, max_depth=6,\n",
            "             min_child_weight=1, missing=nan, monotone_constraints='()',\n",
            "             n_estimators=100, n_jobs=-1, num_parallel_tree=1,\n",
            "             objective='reg:squarederror', random_state=2261, reg_alpha=0,\n",
            "             reg_lambda=1, scale_pos_weight=1, subsample=1, tree_method='auto',\n",
            "             validate_parameters=1, verbosity=0)\n"
          ],
          "name": "stdout"
        }
      ]
    },
    {
      "cell_type": "code",
      "metadata": {
        "colab": {
          "referenced_widgets": [
            "478b281e509049e786fc4d120a2a75d5"
          ]
        },
        "collapsed": true,
        "id": "tFlO8jdGQdTi",
        "outputId": "0660e43c-f6ab-41d4-9dc4-8bae8e7c1b62"
      },
      "source": [
        "#Tuned the model\n",
        "tuned_rf = tune_model(rf)"
      ],
      "execution_count": null,
      "outputs": [
        {
          "output_type": "display_data",
          "data": {
            "application/vnd.jupyter.widget-view+json": {
              "model_id": "478b281e509049e786fc4d120a2a75d5",
              "version_major": 2,
              "version_minor": 0
            },
            "text/plain": [
              "IntProgress(value=0, description='Processing: ', max=7)"
            ]
          },
          "metadata": {
            "tags": []
          }
        },
        {
          "output_type": "display_data",
          "data": {
            "text/html": [
              "<div>\n",
              "<style scoped>\n",
              "    .dataframe tbody tr th:only-of-type {\n",
              "        vertical-align: middle;\n",
              "    }\n",
              "\n",
              "    .dataframe tbody tr th {\n",
              "        vertical-align: top;\n",
              "    }\n",
              "\n",
              "    .dataframe thead th {\n",
              "        text-align: right;\n",
              "    }\n",
              "</style>\n",
              "<table border=\"1\" class=\"dataframe\">\n",
              "  <thead>\n",
              "    <tr style=\"text-align: right;\">\n",
              "      <th></th>\n",
              "      <th></th>\n",
              "      <th></th>\n",
              "    </tr>\n",
              "    <tr>\n",
              "      <th></th>\n",
              "      <th></th>\n",
              "      <th></th>\n",
              "    </tr>\n",
              "  </thead>\n",
              "  <tbody>\n",
              "    <tr>\n",
              "      <th>Initiated</th>\n",
              "      <td>. . . . . . . . . . . . . . . . . .</td>\n",
              "      <td>00:45:39</td>\n",
              "    </tr>\n",
              "    <tr>\n",
              "      <th>Status</th>\n",
              "      <td>. . . . . . . . . . . . . . . . . .</td>\n",
              "      <td>Searching Hyperparameters</td>\n",
              "    </tr>\n",
              "    <tr>\n",
              "      <th>Estimator</th>\n",
              "      <td>. . . . . . . . . . . . . . . . . .</td>\n",
              "      <td>CatBoost Regressor</td>\n",
              "    </tr>\n",
              "  </tbody>\n",
              "</table>\n",
              "</div>"
            ],
            "text/plain": [
              "                                                                         \n",
              "                                                                         \n",
              "Initiated  . . . . . . . . . . . . . . . . . .                   00:45:39\n",
              "Status     . . . . . . . . . . . . . . . . . .  Searching Hyperparameters\n",
              "Estimator  . . . . . . . . . . . . . . . . . .         CatBoost Regressor"
            ]
          },
          "metadata": {
            "tags": []
          }
        },
        {
          "output_type": "display_data",
          "data": {
            "text/html": [
              "<div>\n",
              "<style scoped>\n",
              "    .dataframe tbody tr th:only-of-type {\n",
              "        vertical-align: middle;\n",
              "    }\n",
              "\n",
              "    .dataframe tbody tr th {\n",
              "        vertical-align: top;\n",
              "    }\n",
              "\n",
              "    .dataframe thead th {\n",
              "        text-align: right;\n",
              "    }\n",
              "</style>\n",
              "<table border=\"1\" class=\"dataframe\">\n",
              "  <thead>\n",
              "    <tr style=\"text-align: right;\">\n",
              "      <th></th>\n",
              "      <th>MAE</th>\n",
              "      <th>MSE</th>\n",
              "      <th>RMSE</th>\n",
              "      <th>R2</th>\n",
              "      <th>RMSLE</th>\n",
              "      <th>MAPE</th>\n",
              "    </tr>\n",
              "  </thead>\n",
              "  <tbody>\n",
              "  </tbody>\n",
              "</table>\n",
              "</div>"
            ],
            "text/plain": [
              "Empty DataFrame\n",
              "Columns: [MAE, MSE, RMSE, R2, RMSLE, MAPE]\n",
              "Index: []"
            ]
          },
          "metadata": {
            "tags": []
          }
        },
        {
          "output_type": "stream",
          "text": [
            "Fitting 10 folds for each of 10 candidates, totalling 100 fits\n"
          ],
          "name": "stdout"
        },
        {
          "output_type": "stream",
          "text": [
            "[Parallel(n_jobs=-1)]: Using backend LokyBackend with 4 concurrent workers.\n"
          ],
          "name": "stderr"
        },
        {
          "output_type": "error",
          "ename": "KeyboardInterrupt",
          "evalue": "",
          "traceback": [
            "\u001b[1;31m---------------------------------------------------------------------------\u001b[0m",
            "\u001b[1;31mKeyboardInterrupt\u001b[0m                         Traceback (most recent call last)",
            "\u001b[1;32m<ipython-input-32-14318570f4fa>\u001b[0m in \u001b[0;36m<module>\u001b[1;34m\u001b[0m\n\u001b[0;32m      1\u001b[0m \u001b[1;31m#Tuned the model\u001b[0m\u001b[1;33m\u001b[0m\u001b[1;33m\u001b[0m\u001b[1;33m\u001b[0m\u001b[0m\n\u001b[1;32m----> 2\u001b[1;33m \u001b[0mtuned_rf\u001b[0m \u001b[1;33m=\u001b[0m \u001b[0mtune_model\u001b[0m\u001b[1;33m(\u001b[0m\u001b[0mrf\u001b[0m\u001b[1;33m)\u001b[0m\u001b[1;33m\u001b[0m\u001b[1;33m\u001b[0m\u001b[0m\n\u001b[0m",
            "\u001b[1;32m~\\Anaconda3\\lib\\site-packages\\pycaret\\regression.py\u001b[0m in \u001b[0;36mtune_model\u001b[1;34m(estimator, fold, round, n_iter, custom_grid, optimize, custom_scorer, search_library, search_algorithm, early_stopping, early_stopping_max_iters, choose_better, fit_kwargs, groups, return_tuner, verbose, tuner_verbose, **kwargs)\u001b[0m\n\u001b[0;32m   1080\u001b[0m     \"\"\"\n\u001b[0;32m   1081\u001b[0m \u001b[1;33m\u001b[0m\u001b[0m\n\u001b[1;32m-> 1082\u001b[1;33m     return pycaret.internal.tabular.tune_model_supervised(\n\u001b[0m\u001b[0;32m   1083\u001b[0m         \u001b[0mestimator\u001b[0m\u001b[1;33m=\u001b[0m\u001b[0mestimator\u001b[0m\u001b[1;33m,\u001b[0m\u001b[1;33m\u001b[0m\u001b[1;33m\u001b[0m\u001b[0m\n\u001b[0;32m   1084\u001b[0m         \u001b[0mfold\u001b[0m\u001b[1;33m=\u001b[0m\u001b[0mfold\u001b[0m\u001b[1;33m,\u001b[0m\u001b[1;33m\u001b[0m\u001b[1;33m\u001b[0m\u001b[0m\n",
            "\u001b[1;32m~\\Anaconda3\\lib\\site-packages\\pycaret\\internal\\tabular.py\u001b[0m in \u001b[0;36mtune_model_supervised\u001b[1;34m(estimator, fold, round, n_iter, custom_grid, optimize, custom_scorer, search_library, search_algorithm, early_stopping, early_stopping_max_iters, choose_better, fit_kwargs, groups, return_tuner, verbose, tuner_verbose, display, **kwargs)\u001b[0m\n\u001b[0;32m   4458\u001b[0m                     \u001b[0mpycaret\u001b[0m\u001b[1;33m.\u001b[0m\u001b[0minternal\u001b[0m\u001b[1;33m.\u001b[0m\u001b[0mpatches\u001b[0m\u001b[1;33m.\u001b[0m\u001b[0msklearn\u001b[0m\u001b[1;33m.\u001b[0m\u001b[0m_mp_ParameterGrid_getitem\u001b[0m\u001b[1;33m,\u001b[0m\u001b[1;33m\u001b[0m\u001b[1;33m\u001b[0m\u001b[0m\n\u001b[0;32m   4459\u001b[0m                 ):\n\u001b[1;32m-> 4460\u001b[1;33m                     \u001b[0mmodel_grid\u001b[0m\u001b[1;33m.\u001b[0m\u001b[0mfit\u001b[0m\u001b[1;33m(\u001b[0m\u001b[0mX_train\u001b[0m\u001b[1;33m,\u001b[0m \u001b[0my_train\u001b[0m\u001b[1;33m,\u001b[0m \u001b[0mgroups\u001b[0m\u001b[1;33m=\u001b[0m\u001b[0mgroups\u001b[0m\u001b[1;33m,\u001b[0m \u001b[1;33m**\u001b[0m\u001b[0mfit_kwargs\u001b[0m\u001b[1;33m)\u001b[0m\u001b[1;33m\u001b[0m\u001b[1;33m\u001b[0m\u001b[0m\n\u001b[0m\u001b[0;32m   4461\u001b[0m         \u001b[1;32melse\u001b[0m\u001b[1;33m:\u001b[0m\u001b[1;33m\u001b[0m\u001b[1;33m\u001b[0m\u001b[0m\n\u001b[0;32m   4462\u001b[0m             \u001b[0mmodel_grid\u001b[0m\u001b[1;33m.\u001b[0m\u001b[0mfit\u001b[0m\u001b[1;33m(\u001b[0m\u001b[0mX_train\u001b[0m\u001b[1;33m,\u001b[0m \u001b[0my_train\u001b[0m\u001b[1;33m,\u001b[0m \u001b[0mgroups\u001b[0m\u001b[1;33m=\u001b[0m\u001b[0mgroups\u001b[0m\u001b[1;33m,\u001b[0m \u001b[1;33m**\u001b[0m\u001b[0mfit_kwargs\u001b[0m\u001b[1;33m)\u001b[0m\u001b[1;33m\u001b[0m\u001b[1;33m\u001b[0m\u001b[0m\n",
            "\u001b[1;32m~\\Anaconda3\\lib\\site-packages\\sklearn\\utils\\validation.py\u001b[0m in \u001b[0;36minner_f\u001b[1;34m(*args, **kwargs)\u001b[0m\n\u001b[0;32m     70\u001b[0m                           FutureWarning)\n\u001b[0;32m     71\u001b[0m         \u001b[0mkwargs\u001b[0m\u001b[1;33m.\u001b[0m\u001b[0mupdate\u001b[0m\u001b[1;33m(\u001b[0m\u001b[1;33m{\u001b[0m\u001b[0mk\u001b[0m\u001b[1;33m:\u001b[0m \u001b[0marg\u001b[0m \u001b[1;32mfor\u001b[0m \u001b[0mk\u001b[0m\u001b[1;33m,\u001b[0m \u001b[0marg\u001b[0m \u001b[1;32min\u001b[0m \u001b[0mzip\u001b[0m\u001b[1;33m(\u001b[0m\u001b[0msig\u001b[0m\u001b[1;33m.\u001b[0m\u001b[0mparameters\u001b[0m\u001b[1;33m,\u001b[0m \u001b[0margs\u001b[0m\u001b[1;33m)\u001b[0m\u001b[1;33m}\u001b[0m\u001b[1;33m)\u001b[0m\u001b[1;33m\u001b[0m\u001b[1;33m\u001b[0m\u001b[0m\n\u001b[1;32m---> 72\u001b[1;33m         \u001b[1;32mreturn\u001b[0m \u001b[0mf\u001b[0m\u001b[1;33m(\u001b[0m\u001b[1;33m**\u001b[0m\u001b[0mkwargs\u001b[0m\u001b[1;33m)\u001b[0m\u001b[1;33m\u001b[0m\u001b[1;33m\u001b[0m\u001b[0m\n\u001b[0m\u001b[0;32m     73\u001b[0m     \u001b[1;32mreturn\u001b[0m \u001b[0minner_f\u001b[0m\u001b[1;33m\u001b[0m\u001b[1;33m\u001b[0m\u001b[0m\n\u001b[0;32m     74\u001b[0m \u001b[1;33m\u001b[0m\u001b[0m\n",
            "\u001b[1;32m~\\Anaconda3\\lib\\site-packages\\sklearn\\model_selection\\_search.py\u001b[0m in \u001b[0;36mfit\u001b[1;34m(self, X, y, groups, **fit_params)\u001b[0m\n\u001b[0;32m    734\u001b[0m                 \u001b[1;32mreturn\u001b[0m \u001b[0mresults\u001b[0m\u001b[1;33m\u001b[0m\u001b[1;33m\u001b[0m\u001b[0m\n\u001b[0;32m    735\u001b[0m \u001b[1;33m\u001b[0m\u001b[0m\n\u001b[1;32m--> 736\u001b[1;33m             \u001b[0mself\u001b[0m\u001b[1;33m.\u001b[0m\u001b[0m_run_search\u001b[0m\u001b[1;33m(\u001b[0m\u001b[0mevaluate_candidates\u001b[0m\u001b[1;33m)\u001b[0m\u001b[1;33m\u001b[0m\u001b[1;33m\u001b[0m\u001b[0m\n\u001b[0m\u001b[0;32m    737\u001b[0m \u001b[1;33m\u001b[0m\u001b[0m\n\u001b[0;32m    738\u001b[0m         \u001b[1;31m# For multi-metric evaluation, store the best_index_, best_params_ and\u001b[0m\u001b[1;33m\u001b[0m\u001b[1;33m\u001b[0m\u001b[1;33m\u001b[0m\u001b[0m\n",
            "\u001b[1;32m~\\Anaconda3\\lib\\site-packages\\sklearn\\model_selection\\_search.py\u001b[0m in \u001b[0;36m_run_search\u001b[1;34m(self, evaluate_candidates)\u001b[0m\n\u001b[0;32m   1527\u001b[0m     \u001b[1;32mdef\u001b[0m \u001b[0m_run_search\u001b[0m\u001b[1;33m(\u001b[0m\u001b[0mself\u001b[0m\u001b[1;33m,\u001b[0m \u001b[0mevaluate_candidates\u001b[0m\u001b[1;33m)\u001b[0m\u001b[1;33m:\u001b[0m\u001b[1;33m\u001b[0m\u001b[1;33m\u001b[0m\u001b[0m\n\u001b[0;32m   1528\u001b[0m         \u001b[1;34m\"\"\"Search n_iter candidates from param_distributions\"\"\"\u001b[0m\u001b[1;33m\u001b[0m\u001b[1;33m\u001b[0m\u001b[0m\n\u001b[1;32m-> 1529\u001b[1;33m         evaluate_candidates(ParameterSampler(\n\u001b[0m\u001b[0;32m   1530\u001b[0m             \u001b[0mself\u001b[0m\u001b[1;33m.\u001b[0m\u001b[0mparam_distributions\u001b[0m\u001b[1;33m,\u001b[0m \u001b[0mself\u001b[0m\u001b[1;33m.\u001b[0m\u001b[0mn_iter\u001b[0m\u001b[1;33m,\u001b[0m\u001b[1;33m\u001b[0m\u001b[1;33m\u001b[0m\u001b[0m\n\u001b[0;32m   1531\u001b[0m             random_state=self.random_state))\n",
            "\u001b[1;32m~\\Anaconda3\\lib\\site-packages\\sklearn\\model_selection\\_search.py\u001b[0m in \u001b[0;36mevaluate_candidates\u001b[1;34m(candidate_params)\u001b[0m\n\u001b[0;32m    706\u001b[0m                               n_splits, n_candidates, n_candidates * n_splits))\n\u001b[0;32m    707\u001b[0m \u001b[1;33m\u001b[0m\u001b[0m\n\u001b[1;32m--> 708\u001b[1;33m                 out = parallel(delayed(_fit_and_score)(clone(base_estimator),\n\u001b[0m\u001b[0;32m    709\u001b[0m                                                        \u001b[0mX\u001b[0m\u001b[1;33m,\u001b[0m \u001b[0my\u001b[0m\u001b[1;33m,\u001b[0m\u001b[1;33m\u001b[0m\u001b[1;33m\u001b[0m\u001b[0m\n\u001b[0;32m    710\u001b[0m                                                        \u001b[0mtrain\u001b[0m\u001b[1;33m=\u001b[0m\u001b[0mtrain\u001b[0m\u001b[1;33m,\u001b[0m \u001b[0mtest\u001b[0m\u001b[1;33m=\u001b[0m\u001b[0mtest\u001b[0m\u001b[1;33m,\u001b[0m\u001b[1;33m\u001b[0m\u001b[1;33m\u001b[0m\u001b[0m\n",
            "\u001b[1;32m~\\Anaconda3\\lib\\site-packages\\joblib\\parallel.py\u001b[0m in \u001b[0;36m__call__\u001b[1;34m(self, iterable)\u001b[0m\n\u001b[0;32m   1040\u001b[0m \u001b[1;33m\u001b[0m\u001b[0m\n\u001b[0;32m   1041\u001b[0m             \u001b[1;32mwith\u001b[0m \u001b[0mself\u001b[0m\u001b[1;33m.\u001b[0m\u001b[0m_backend\u001b[0m\u001b[1;33m.\u001b[0m\u001b[0mretrieval_context\u001b[0m\u001b[1;33m(\u001b[0m\u001b[1;33m)\u001b[0m\u001b[1;33m:\u001b[0m\u001b[1;33m\u001b[0m\u001b[1;33m\u001b[0m\u001b[0m\n\u001b[1;32m-> 1042\u001b[1;33m                 \u001b[0mself\u001b[0m\u001b[1;33m.\u001b[0m\u001b[0mretrieve\u001b[0m\u001b[1;33m(\u001b[0m\u001b[1;33m)\u001b[0m\u001b[1;33m\u001b[0m\u001b[1;33m\u001b[0m\u001b[0m\n\u001b[0m\u001b[0;32m   1043\u001b[0m             \u001b[1;31m# Make sure that we get a last message telling us we are done\u001b[0m\u001b[1;33m\u001b[0m\u001b[1;33m\u001b[0m\u001b[1;33m\u001b[0m\u001b[0m\n\u001b[0;32m   1044\u001b[0m             \u001b[0melapsed_time\u001b[0m \u001b[1;33m=\u001b[0m \u001b[0mtime\u001b[0m\u001b[1;33m.\u001b[0m\u001b[0mtime\u001b[0m\u001b[1;33m(\u001b[0m\u001b[1;33m)\u001b[0m \u001b[1;33m-\u001b[0m \u001b[0mself\u001b[0m\u001b[1;33m.\u001b[0m\u001b[0m_start_time\u001b[0m\u001b[1;33m\u001b[0m\u001b[1;33m\u001b[0m\u001b[0m\n",
            "\u001b[1;32m~\\Anaconda3\\lib\\site-packages\\joblib\\parallel.py\u001b[0m in \u001b[0;36mretrieve\u001b[1;34m(self)\u001b[0m\n\u001b[0;32m    919\u001b[0m             \u001b[1;32mtry\u001b[0m\u001b[1;33m:\u001b[0m\u001b[1;33m\u001b[0m\u001b[1;33m\u001b[0m\u001b[0m\n\u001b[0;32m    920\u001b[0m                 \u001b[1;32mif\u001b[0m \u001b[0mgetattr\u001b[0m\u001b[1;33m(\u001b[0m\u001b[0mself\u001b[0m\u001b[1;33m.\u001b[0m\u001b[0m_backend\u001b[0m\u001b[1;33m,\u001b[0m \u001b[1;34m'supports_timeout'\u001b[0m\u001b[1;33m,\u001b[0m \u001b[1;32mFalse\u001b[0m\u001b[1;33m)\u001b[0m\u001b[1;33m:\u001b[0m\u001b[1;33m\u001b[0m\u001b[1;33m\u001b[0m\u001b[0m\n\u001b[1;32m--> 921\u001b[1;33m                     \u001b[0mself\u001b[0m\u001b[1;33m.\u001b[0m\u001b[0m_output\u001b[0m\u001b[1;33m.\u001b[0m\u001b[0mextend\u001b[0m\u001b[1;33m(\u001b[0m\u001b[0mjob\u001b[0m\u001b[1;33m.\u001b[0m\u001b[0mget\u001b[0m\u001b[1;33m(\u001b[0m\u001b[0mtimeout\u001b[0m\u001b[1;33m=\u001b[0m\u001b[0mself\u001b[0m\u001b[1;33m.\u001b[0m\u001b[0mtimeout\u001b[0m\u001b[1;33m)\u001b[0m\u001b[1;33m)\u001b[0m\u001b[1;33m\u001b[0m\u001b[1;33m\u001b[0m\u001b[0m\n\u001b[0m\u001b[0;32m    922\u001b[0m                 \u001b[1;32melse\u001b[0m\u001b[1;33m:\u001b[0m\u001b[1;33m\u001b[0m\u001b[1;33m\u001b[0m\u001b[0m\n\u001b[0;32m    923\u001b[0m                     \u001b[0mself\u001b[0m\u001b[1;33m.\u001b[0m\u001b[0m_output\u001b[0m\u001b[1;33m.\u001b[0m\u001b[0mextend\u001b[0m\u001b[1;33m(\u001b[0m\u001b[0mjob\u001b[0m\u001b[1;33m.\u001b[0m\u001b[0mget\u001b[0m\u001b[1;33m(\u001b[0m\u001b[1;33m)\u001b[0m\u001b[1;33m)\u001b[0m\u001b[1;33m\u001b[0m\u001b[1;33m\u001b[0m\u001b[0m\n",
            "\u001b[1;32m~\\Anaconda3\\lib\\site-packages\\joblib\\_parallel_backends.py\u001b[0m in \u001b[0;36mwrap_future_result\u001b[1;34m(future, timeout)\u001b[0m\n\u001b[0;32m    540\u001b[0m         AsyncResults.get from multiprocessing.\"\"\"\n\u001b[0;32m    541\u001b[0m         \u001b[1;32mtry\u001b[0m\u001b[1;33m:\u001b[0m\u001b[1;33m\u001b[0m\u001b[1;33m\u001b[0m\u001b[0m\n\u001b[1;32m--> 542\u001b[1;33m             \u001b[1;32mreturn\u001b[0m \u001b[0mfuture\u001b[0m\u001b[1;33m.\u001b[0m\u001b[0mresult\u001b[0m\u001b[1;33m(\u001b[0m\u001b[0mtimeout\u001b[0m\u001b[1;33m=\u001b[0m\u001b[0mtimeout\u001b[0m\u001b[1;33m)\u001b[0m\u001b[1;33m\u001b[0m\u001b[1;33m\u001b[0m\u001b[0m\n\u001b[0m\u001b[0;32m    543\u001b[0m         \u001b[1;32mexcept\u001b[0m \u001b[0mCfTimeoutError\u001b[0m \u001b[1;32mas\u001b[0m \u001b[0me\u001b[0m\u001b[1;33m:\u001b[0m\u001b[1;33m\u001b[0m\u001b[1;33m\u001b[0m\u001b[0m\n\u001b[0;32m    544\u001b[0m             \u001b[1;32mraise\u001b[0m \u001b[0mTimeoutError\u001b[0m \u001b[1;32mfrom\u001b[0m \u001b[0me\u001b[0m\u001b[1;33m\u001b[0m\u001b[1;33m\u001b[0m\u001b[0m\n",
            "\u001b[1;32m~\\Anaconda3\\lib\\concurrent\\futures\\_base.py\u001b[0m in \u001b[0;36mresult\u001b[1;34m(self, timeout)\u001b[0m\n\u001b[0;32m    432\u001b[0m                 \u001b[1;32mreturn\u001b[0m \u001b[0mself\u001b[0m\u001b[1;33m.\u001b[0m\u001b[0m__get_result\u001b[0m\u001b[1;33m(\u001b[0m\u001b[1;33m)\u001b[0m\u001b[1;33m\u001b[0m\u001b[1;33m\u001b[0m\u001b[0m\n\u001b[0;32m    433\u001b[0m \u001b[1;33m\u001b[0m\u001b[0m\n\u001b[1;32m--> 434\u001b[1;33m             \u001b[0mself\u001b[0m\u001b[1;33m.\u001b[0m\u001b[0m_condition\u001b[0m\u001b[1;33m.\u001b[0m\u001b[0mwait\u001b[0m\u001b[1;33m(\u001b[0m\u001b[0mtimeout\u001b[0m\u001b[1;33m)\u001b[0m\u001b[1;33m\u001b[0m\u001b[1;33m\u001b[0m\u001b[0m\n\u001b[0m\u001b[0;32m    435\u001b[0m \u001b[1;33m\u001b[0m\u001b[0m\n\u001b[0;32m    436\u001b[0m             \u001b[1;32mif\u001b[0m \u001b[0mself\u001b[0m\u001b[1;33m.\u001b[0m\u001b[0m_state\u001b[0m \u001b[1;32min\u001b[0m \u001b[1;33m[\u001b[0m\u001b[0mCANCELLED\u001b[0m\u001b[1;33m,\u001b[0m \u001b[0mCANCELLED_AND_NOTIFIED\u001b[0m\u001b[1;33m]\u001b[0m\u001b[1;33m:\u001b[0m\u001b[1;33m\u001b[0m\u001b[1;33m\u001b[0m\u001b[0m\n",
            "\u001b[1;32m~\\Anaconda3\\lib\\threading.py\u001b[0m in \u001b[0;36mwait\u001b[1;34m(self, timeout)\u001b[0m\n\u001b[0;32m    300\u001b[0m         \u001b[1;32mtry\u001b[0m\u001b[1;33m:\u001b[0m    \u001b[1;31m# restore state no matter what (e.g., KeyboardInterrupt)\u001b[0m\u001b[1;33m\u001b[0m\u001b[1;33m\u001b[0m\u001b[0m\n\u001b[0;32m    301\u001b[0m             \u001b[1;32mif\u001b[0m \u001b[0mtimeout\u001b[0m \u001b[1;32mis\u001b[0m \u001b[1;32mNone\u001b[0m\u001b[1;33m:\u001b[0m\u001b[1;33m\u001b[0m\u001b[1;33m\u001b[0m\u001b[0m\n\u001b[1;32m--> 302\u001b[1;33m                 \u001b[0mwaiter\u001b[0m\u001b[1;33m.\u001b[0m\u001b[0macquire\u001b[0m\u001b[1;33m(\u001b[0m\u001b[1;33m)\u001b[0m\u001b[1;33m\u001b[0m\u001b[1;33m\u001b[0m\u001b[0m\n\u001b[0m\u001b[0;32m    303\u001b[0m                 \u001b[0mgotit\u001b[0m \u001b[1;33m=\u001b[0m \u001b[1;32mTrue\u001b[0m\u001b[1;33m\u001b[0m\u001b[1;33m\u001b[0m\u001b[0m\n\u001b[0;32m    304\u001b[0m             \u001b[1;32melse\u001b[0m\u001b[1;33m:\u001b[0m\u001b[1;33m\u001b[0m\u001b[1;33m\u001b[0m\u001b[0m\n",
            "\u001b[1;31mKeyboardInterrupt\u001b[0m: "
          ]
        }
      ]
    },
    {
      "cell_type": "code",
      "metadata": {
        "colab": {
          "referenced_widgets": [
            "b6a7cd0f8fa64358a577215db5e1051f"
          ]
        },
        "id": "W2HiVcOQQdTj",
        "outputId": "369c67c9-4502-4c2e-979d-efb91c0f8eba"
      },
      "source": [
        "tuned_cat = tune_model(catboost)"
      ],
      "execution_count": null,
      "outputs": [
        {
          "output_type": "display_data",
          "data": {
            "application/vnd.jupyter.widget-view+json": {
              "model_id": "b6a7cd0f8fa64358a577215db5e1051f",
              "version_major": 2,
              "version_minor": 0
            },
            "text/plain": [
              "IntProgress(value=0, description='Processing: ', max=7)"
            ]
          },
          "metadata": {
            "tags": []
          }
        },
        {
          "output_type": "display_data",
          "data": {
            "text/html": [
              "<div>\n",
              "<style scoped>\n",
              "    .dataframe tbody tr th:only-of-type {\n",
              "        vertical-align: middle;\n",
              "    }\n",
              "\n",
              "    .dataframe tbody tr th {\n",
              "        vertical-align: top;\n",
              "    }\n",
              "\n",
              "    .dataframe thead th {\n",
              "        text-align: right;\n",
              "    }\n",
              "</style>\n",
              "<table border=\"1\" class=\"dataframe\">\n",
              "  <thead>\n",
              "    <tr style=\"text-align: right;\">\n",
              "      <th></th>\n",
              "      <th></th>\n",
              "      <th></th>\n",
              "    </tr>\n",
              "    <tr>\n",
              "      <th></th>\n",
              "      <th></th>\n",
              "      <th></th>\n",
              "    </tr>\n",
              "  </thead>\n",
              "  <tbody>\n",
              "    <tr>\n",
              "      <th>Initiated</th>\n",
              "      <td>. . . . . . . . . . . . . . . . . .</td>\n",
              "      <td>00:45:39</td>\n",
              "    </tr>\n",
              "    <tr>\n",
              "      <th>Status</th>\n",
              "      <td>. . . . . . . . . . . . . . . . . .</td>\n",
              "      <td>Searching Hyperparameters</td>\n",
              "    </tr>\n",
              "    <tr>\n",
              "      <th>Estimator</th>\n",
              "      <td>. . . . . . . . . . . . . . . . . .</td>\n",
              "      <td>CatBoost Regressor</td>\n",
              "    </tr>\n",
              "  </tbody>\n",
              "</table>\n",
              "</div>"
            ],
            "text/plain": [
              "                                                                         \n",
              "                                                                         \n",
              "Initiated  . . . . . . . . . . . . . . . . . .                   00:45:39\n",
              "Status     . . . . . . . . . . . . . . . . . .  Searching Hyperparameters\n",
              "Estimator  . . . . . . . . . . . . . . . . . .         CatBoost Regressor"
            ]
          },
          "metadata": {
            "tags": []
          }
        },
        {
          "output_type": "display_data",
          "data": {
            "text/html": [
              "<div>\n",
              "<style scoped>\n",
              "    .dataframe tbody tr th:only-of-type {\n",
              "        vertical-align: middle;\n",
              "    }\n",
              "\n",
              "    .dataframe tbody tr th {\n",
              "        vertical-align: top;\n",
              "    }\n",
              "\n",
              "    .dataframe thead th {\n",
              "        text-align: right;\n",
              "    }\n",
              "</style>\n",
              "<table border=\"1\" class=\"dataframe\">\n",
              "  <thead>\n",
              "    <tr style=\"text-align: right;\">\n",
              "      <th></th>\n",
              "      <th>MAE</th>\n",
              "      <th>MSE</th>\n",
              "      <th>RMSE</th>\n",
              "      <th>R2</th>\n",
              "      <th>RMSLE</th>\n",
              "      <th>MAPE</th>\n",
              "    </tr>\n",
              "  </thead>\n",
              "  <tbody>\n",
              "  </tbody>\n",
              "</table>\n",
              "</div>"
            ],
            "text/plain": [
              "Empty DataFrame\n",
              "Columns: [MAE, MSE, RMSE, R2, RMSLE, MAPE]\n",
              "Index: []"
            ]
          },
          "metadata": {
            "tags": []
          }
        },
        {
          "output_type": "stream",
          "text": [
            "Fitting 10 folds for each of 10 candidates, totalling 100 fits\n"
          ],
          "name": "stdout"
        },
        {
          "output_type": "stream",
          "text": [
            "[Parallel(n_jobs=-1)]: Using backend LokyBackend with 4 concurrent workers.\n",
            "[Parallel(n_jobs=-1)]: Done  42 tasks      | elapsed:  1.9min\n"
          ],
          "name": "stderr"
        }
      ]
    },
    {
      "cell_type": "code",
      "metadata": {
        "id": "qQZDwWmRQdTj"
      },
      "source": [
        "tuned_xg = tune_model(xgboost)"
      ],
      "execution_count": null,
      "outputs": []
    },
    {
      "cell_type": "code",
      "metadata": {
        "id": "-NIsjFDIQdTj"
      },
      "source": [
        "#Residual Plot\n",
        "plot_model(tuned_rf)"
      ],
      "execution_count": null,
      "outputs": []
    },
    {
      "cell_type": "code",
      "metadata": {
        "id": "_Gdahnz2QdTk"
      },
      "source": [
        "#Prediction Error Plot\n",
        "\n",
        "plot_model(tuned_rf, plot = 'error')"
      ],
      "execution_count": null,
      "outputs": []
    },
    {
      "cell_type": "code",
      "metadata": {
        "id": "LU4942aJQdTk"
      },
      "source": [
        "#Feature Importance Plot\n",
        "plot_model(tuned_rf, plot='feature')"
      ],
      "execution_count": null,
      "outputs": []
    },
    {
      "cell_type": "code",
      "metadata": {
        "id": "LI433KbOQdTk"
      },
      "source": [
        "evaluate_model(tuned_lightgbm)"
      ],
      "execution_count": null,
      "outputs": []
    },
    {
      "cell_type": "code",
      "metadata": {
        "id": "gJxf2M0WQdTk"
      },
      "source": [
        "#Predict on Test / Hold-out Sample\n",
        "predict_model(tuned_rf);"
      ],
      "execution_count": null,
      "outputs": []
    },
    {
      "cell_type": "code",
      "metadata": {
        "id": "Pkmogs_JQdTl"
      },
      "source": [
        "#Finalize Model for Deployment\n",
        "final_rf = finalize_model(tuned_rf)"
      ],
      "execution_count": null,
      "outputs": []
    },
    {
      "cell_type": "code",
      "metadata": {
        "id": "-hf-yF4GQdTl"
      },
      "source": [
        "print(final_rf)"
      ],
      "execution_count": null,
      "outputs": []
    },
    {
      "cell_type": "code",
      "metadata": {
        "id": "D1sGebs-QdTl"
      },
      "source": [
        "predict_model(final_rf);"
      ],
      "execution_count": null,
      "outputs": []
    },
    {
      "cell_type": "code",
      "metadata": {
        "id": "g2Be0pV0QdTl"
      },
      "source": [
        "#Predict on Unseen Data\n",
        "\n",
        "unseen_predictions = predict_model(final_rf, data=data_unseen)\n",
        "unseen_predictions.head()"
      ],
      "execution_count": null,
      "outputs": []
    },
    {
      "cell_type": "code",
      "metadata": {
        "id": "WCODOqAeQdTm"
      },
      "source": [
        "from pycaret.utils import check_metric\n",
        "check_metric(unseen_predictions.Price, unseen_predictions.Label, 'R2')"
      ],
      "execution_count": null,
      "outputs": []
    },
    {
      "cell_type": "code",
      "metadata": {
        "id": "CTfxwFqxQdTm"
      },
      "source": [
        "#Saving the Model\n",
        "save_model(final_rf,'Final_rf Model 07FEB2021')"
      ],
      "execution_count": null,
      "outputs": []
    },
    {
      "cell_type": "code",
      "metadata": {
        "id": "9AZC4tP6QdTm"
      },
      "source": [
        "#Loading the Saved Model\n",
        "\n",
        "saved_final_rf = load_model('Final_rf Model 07FEB2021')"
      ],
      "execution_count": null,
      "outputs": []
    },
    {
      "cell_type": "code",
      "metadata": {
        "id": "gJxM_8vKQdTn"
      },
      "source": [
        "new_prediction = predict_model(saved_final_rf, data=data_unseen)"
      ],
      "execution_count": null,
      "outputs": []
    },
    {
      "cell_type": "code",
      "metadata": {
        "id": "vEX6MrORQdTn"
      },
      "source": [
        "new_prediction.head()"
      ],
      "execution_count": null,
      "outputs": []
    },
    {
      "cell_type": "code",
      "metadata": {
        "id": "3x994OEmQdTn"
      },
      "source": [
        "from pycaret.utils import check_metric\n",
        "check_metric(new_prediction.Price, new_prediction.Label, 'R2')"
      ],
      "execution_count": null,
      "outputs": []
    },
    {
      "cell_type": "code",
      "metadata": {
        "id": "L_4mAn2-QdTn"
      },
      "source": [
        ""
      ],
      "execution_count": null,
      "outputs": []
    }
  ]
}